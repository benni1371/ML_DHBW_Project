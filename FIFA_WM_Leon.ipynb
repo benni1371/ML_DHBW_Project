{
 "cells": [
  {
   "cell_type": "code",
   "execution_count": 3,
   "metadata": {
    "collapsed": true
   },
   "outputs": [],
   "source": [
    "import pandas as pd\n",
    "import matplotlib.pyplot as plt\n",
    "import numpy as np\n",
    "\n",
    "plt.rcParams.update({'font.size': 15})\n",
    "\n",
    "#G=Goal, OG=Own Goal, Y=Yellow Card, R=Red Card, SY = Red Card by second yellow, P=Penalty, MP=Missed Penalty, I = Substitution In, O=Substitute Out, IH= In half time?\n",
    "\n",
    "df_matches=pd.read_csv('data_raw/WorldCupMatches.csv', sep=',')\n",
    "df_players=pd.read_csv('data_raw/WorldCupPlayers.csv', sep=',')\n",
    "df_cups=pd.read_csv('data_raw/WorldCups.csv', sep=',')\n",
    "\n",
    "df_events = pd.read_csv('data_prepared/event.csv', sep=',').replace(np.nan, '', regex=True)"
   ]
  },
  {
   "cell_type": "code",
   "execution_count": 5,
   "metadata": {},
   "outputs": [
    {
     "name": "stdout",
     "output_type": "stream",
     "text": [
      "Year\n1930     70\n1934     70\n1938     84\n1950     88\n1954    140\n1958    126\n1962     89\n1966     89\n1970     95\n1974     97\n1978    102\n1982    146\n1986    132\n1990    115\n1994    141\n1998    171\n2002    161\n2006    147\n2010    145\n2014    171\ndtype: int64\n"
     ]
    }
   ],
   "source": [
    "# at first a few descriptive statistics about the goals made during all the world cups\n",
    "\n",
    "# * How many Goals per Worldcup?\n",
    "goals_per_match = df_events.groupby(['MatchID'])[['Year', 'Home Team Goals', 'Away Team Goals']].mean()\n",
    "goals_per_world_cup = goals_per_match.groupby(['Year'])[['Home Team Goals', 'Away Team Goals']].sum()\n",
    "print(goals_per_world_cup.sum(1))\n",
    "goals_per_world_cup.sum(1).plot()\n",
    "plt.show()\n"
   ]
  },
  {
   "cell_type": "code",
   "execution_count": 6,
   "metadata": {},
   "outputs": [
    {
     "name": "stdout",
     "output_type": "stream",
     "text": [
      "     Average Goals per Game\n                           \nYear                       \n1930               0.257143\n1934               0.242857\n1938               0.214286\n1950               0.250000\n1954               0.185714\n1958               0.277778\n1962               0.359551\n1966               0.359551\n1970               0.336842\n1974               0.391753\n1978               0.372549\n1982               0.356164\n1986               0.393939\n1990               0.452174\n1994               0.368794\n1998               0.374269\n2002               0.397516\n2006               0.435374\n2010               0.441379\n2014               0.374269\n"
     ]
    }
   ],
   "source": [
    "# Okay seems like more goals occured lately, so lets check the average goals per game for each world cup\n",
    "\n",
    "goals_per_match_ratio = df_events.groupby(['MatchID'])[['MatchID', 'Year', 'Home Team Goals', 'Away Team Goals']].mean()\n",
    "goals_per_match_ratio = goals_per_match_ratio.assign(total = lambda x: x['Home Team Goals'] + x['Away Team Goals'])\n",
    "goals_per_match_ratio = goals_per_match_ratio[['MatchID', 'Year', 'total']]\n",
    "goals_per_match_ratio = goals_per_match_ratio.groupby(['Year'])[['MatchID', 'total']].agg({'MatchID' : ['size'], 'total' : ['sum']})\n",
    "goals_per_match_ratio = goals_per_match_ratio.rename(columns={'size':'Number of Games', 'sum' : 'Amount of Goals'})\n",
    "goals_per_match_ratio = goals_per_match_ratio.assign(average = lambda x: (x['MatchID']['Number of Games'].astype(dtype=float) / x['total']['Amount of Goals'].astype(dtype=float)) )\n",
    "goals_per_match_ratio = goals_per_match_ratio[['average']].rename(columns={'average':'Average Goals per Game'})\n",
    "print(goals_per_match_ratio)\n",
    "goals_per_match_ratio.plot(kind='bar')\n",
    "plt.show()\n",
    "\n",
    "# Well it seems that yes, the average number of goals per game increased since 1930\n",
    "# but lately the average was more or less consistent with some peaks in the 00´s"
   ]
  },
  {
   "cell_type": "code",
   "execution_count": 7,
   "metadata": {},
   "outputs": [
    {
     "name": "stdout",
     "output_type": "stream",
     "text": [
      "Empty DataFrame\nColumns: [Year, Datetime, Stage, Stadium, City, Home Team Name, Home Team Goals, Away Team Goals, Away Team Name, Attendance, Half-time Home Goals, Half-time Away Goals, Referee, Assistant 1, Assistant 2, RoundID, MatchID, Home Team Initials, Away Team Initials, Team Initials, Coach Name, Line-up, Shirt Number, Player Name, Position, EventType, EventMinute, ExtraTime, Penalty, GoldenGoal, DecisionPenaltyAway, DecisionPenaltyHome, HomeTeamWins, AwayTeamWins, EventOfHomeTeam, EventOfWinner, EventOfLoser, HourGameStart, StageRank]\nIndex: []\n\n[0 rows x 39 columns]\n"
     ]
    }
   ],
   "source": [
    "# Next up we ask ourself: has the goalkeeper ever shot a goal?\n",
    "\n",
    "goal_keeper_goal = df_events.loc[(df_events['EventType'] == 'G') & (df_events['Position'] == 'GK')]\n",
    "\n",
    "print(goal_keeper_goal)\n",
    "# Unfortunately no goal keeper has ever shot a goal during world cup"
   ]
  },
  {
   "cell_type": "code",
   "execution_count": null,
   "metadata": {},
   "outputs": [],
   "source": [
    "# Next Question is: Does the team from from the country hosting the event perform better than otherwise?\n",
    "\n",
    "# Therefore first check the "
   ]
  }
 ],
 "metadata": {
  "kernelspec": {
   "display_name": "Python 2",
   "language": "python",
   "name": "python2"
  },
  "language_info": {
   "codemirror_mode": {
    "name": "ipython",
    "version": 2
   },
   "file_extension": ".py",
   "mimetype": "text/x-python",
   "name": "python",
   "nbconvert_exporter": "python",
   "pygments_lexer": "ipython2",
   "version": "2.7.6"
  }
 },
 "nbformat": 4,
 "nbformat_minor": 0
}
