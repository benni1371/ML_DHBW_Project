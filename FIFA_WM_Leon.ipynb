{
 "cells": [
  {
   "cell_type": "code",
   "execution_count": 1,
   "metadata": {},
   "outputs": [],
   "source": [
    "import pandas as pd\n",
    "import matplotlib.pyplot as plt\n",
    "import numpy as np\n",
    "\n",
    "plt.rcParams.update({'font.size': 15})\n",
    "\n",
    "#G=Goal, OG=Own Goal, Y=Yellow Card, R=Red Card, SY = Red Card by second yellow, P=Penalty, MP=Missed Penalty, I = Substitution In, O=Substitute Out, IH= In half time?\n",
    "\n",
    "df_matches=pd.read_csv('data_raw/WorldCupMatches.csv', sep=',')\n",
    "df_players=pd.read_csv('data_raw/WorldCupPlayers.csv', sep=',')\n",
    "df_cups=pd.read_csv('data_raw/WorldCups.csv', sep=',')\n",
    "\n",
    "df_events = pd.read_csv('data_prepared/event.csv', sep=',').replace(np.nan, '', regex=True)"
   ]
  },
  {
   "cell_type": "code",
   "execution_count": 2,
   "metadata": {},
   "outputs": [
    {
     "name": "stdout",
     "output_type": "stream",
     "text": [
      "Year\n",
      "1930     70\n",
      "1934     70\n",
      "1938     84\n",
      "1950     88\n",
      "1954    140\n",
      "1958    126\n",
      "1962     89\n",
      "1966     89\n",
      "1970     95\n",
      "1974     97\n",
      "1978    102\n",
      "1982    146\n",
      "1986    132\n",
      "1990    115\n",
      "1994    141\n",
      "1998    171\n",
      "2002    161\n",
      "2006    147\n",
      "2010    145\n",
      "2014    171\n",
      "dtype: int64\n"
     ]
    },
    {
     "data": {
      "image/png": "[encoded data removed]",
      "text/plain": [
       "<Figure size 432x288 with 1 Axes>"
      ]
     },
     "metadata": {},
     "output_type": "display_data"
    }
   ],
   "source": [
    "# at first a few descriptive statistics about the goals made during all the world cups\n",
    "\n",
    "# * How many Goals per Worldcup?\n",
    "goals_per_match = df_events.groupby(['MatchID'])[['Year', 'Home Team Goals', 'Away Team Goals']].mean()\n",
    "goals_per_world_cup = goals_per_match.groupby(['Year'])[['Home Team Goals', 'Away Team Goals']].sum()\n",
    "print(goals_per_world_cup.sum(1))\n",
    "goals_per_world_cup.sum(1).plot()\n",
    "plt.show()\n"
   ]
  },
  {
   "cell_type": "code",
   "execution_count": 3,
   "metadata": {},
   "outputs": [
    {
     "name": "stdout",
     "output_type": "stream",
     "text": [
      "     Average Goals per Game\n",
      "                           \n",
      "Year                       \n",
      "1930               0.257143\n",
      "1934               0.242857\n",
      "1938               0.214286\n",
      "1950               0.250000\n",
      "1954               0.185714\n",
      "1958               0.277778\n",
      "1962               0.359551\n",
      "1966               0.359551\n",
      "1970               0.336842\n",
      "1974               0.391753\n",
      "1978               0.372549\n",
      "1982               0.356164\n",
      "1986               0.393939\n",
      "1990               0.452174\n",
      "1994               0.368794\n",
      "1998               0.374269\n",
      "2002               0.397516\n",
      "2006               0.435374\n",
      "2010               0.441379\n",
      "2014               0.374269\n"
     ]
    },
    {
     "data": {
      "image/png": "[encoded data removed]",
      "text/plain": [
       "<Figure size 432x288 with 1 Axes>"
      ]
     },
     "metadata": {},
     "output_type": "display_data"
    }
   ],
   "source": [
    "# Okay seems like more goals occured lately, so lets check the average goals per game for each world cup\n",
    "\n",
    "goals_per_match_ratio = df_events.groupby(['MatchID'])[['MatchID', 'Year', 'Home Team Goals', 'Away Team Goals']].mean()\n",
    "goals_per_match_ratio = goals_per_match_ratio.assign(total = lambda x: x['Home Team Goals'] + x['Away Team Goals'])\n",
    "goals_per_match_ratio = goals_per_match_ratio[['MatchID', 'Year', 'total']]\n",
    "goals_per_match_ratio = goals_per_match_ratio.groupby(['Year'])[['MatchID', 'total']].agg({'MatchID' : ['size'], 'total' : ['sum']})\n",
    "goals_per_match_ratio = goals_per_match_ratio.rename(columns={'size':'Number of Games', 'sum' : 'Amount of Goals'})\n",
    "goals_per_match_ratio = goals_per_match_ratio.assign(average = lambda x: (x['MatchID']['Number of Games'].astype(dtype=float) / x['total']['Amount of Goals'].astype(dtype=float)) )\n",
    "goals_per_match_ratio = goals_per_match_ratio[['average']].rename(columns={'average':'Average Goals per Game'})\n",
    "print(goals_per_match_ratio)\n",
    "goals_per_match_ratio.plot(kind='bar')\n",
    "plt.show()\n",
    "\n",
    "# Well it seems that yes, the average number of goals per game increased since 1930\n",
    "# but lately the average was more or less consistent with some peaks in the 00´s"
   ]
  },
  {
   "cell_type": "code",
   "execution_count": 4,
   "metadata": {},
   "outputs": [
    {
     "name": "stdout",
     "output_type": "stream",
     "text": [
      "Empty DataFrame\n",
      "Columns: [Year, Datetime, Stage, Stadium, City, Home Team Name, Home Team Goals, Away Team Goals, Away Team Name, Attendance, Half-time Home Goals, Half-time Away Goals, Referee, Assistant 1, Assistant 2, RoundID, MatchID, Home Team Initials, Away Team Initials, Team Initials, Coach Name, Line-up, Shirt Number, Player Name, Position, EventType, EventMinute, ExtraTime, Penalty, GoldenGoal, DecisionPenaltyAway, DecisionPenaltyHome, HomeTeamWins, AwayTeamWins, EventOfHomeTeam, EventOfWinner, EventOfLoser, HourGameStart, StageRank]\n",
      "Index: []\n",
      "\n",
      "[0 rows x 39 columns]\n"
     ]
    }
   ],
   "source": [
    "# Next up we ask ourself: has the goalkeeper ever shot a goal?\n",
    "\n",
    "goal_keeper_goal = df_events.loc[(df_events['EventType'] == 'G') & (df_events['Position'] == 'GK')]\n",
    "\n",
    "print(goal_keeper_goal)\n",
    "# Unfortunately no goal keeper has ever shot a goal during world cup"
   ]
  },
  {
   "cell_type": "code",
   "execution_count": 5,
   "metadata": {},
   "outputs": [],
   "source": [
    "# Next Question is: Does the team from from the country hosting the event perform better than otherwise?\n",
    "\n",
    "# Therefore first check the "
   ]
  }
 ],
 "metadata": {
  "kernelspec": {
   "display_name": "Python 3",
   "language": "python",
   "name": "python3"
  },
  "language_info": {
   "codemirror_mode": {
    "name": "ipython",
    "version": 3
   },
   "file_extension": ".py",
   "mimetype": "text/x-python",
   "name": "python",
   "nbconvert_exporter": "python",
   "pygments_lexer": "ipython3",
   "version": "3.6.5"
  }
 },
 "nbformat": 4,
 "nbformat_minor": 1
}
