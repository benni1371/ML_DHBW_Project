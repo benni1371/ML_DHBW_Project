{
 "cells": [
  {
   "cell_type": "code",
   "execution_count": 1,
   "metadata": {},
   "outputs": [],
   "source": [
    "import pandas as pd\n",
    "import matplotlib.pyplot as plt\n",
    "import numpy as np\n",
    "\n",
    "\n",
    "plt.rcParams.update({'font.size': 15})\n",
    "\n",
    "#G=Goal, OG=Own Goal, Y=Yellow Card, R=Red Card, SY = Red Card by second yellow, P=Penalty, MP=Missed Penalty, I = Substitution In, O=Substitute Out, IH= In half time?\n",
    "\n",
    "df_matches = pd.read_csv('data_raw/WorldCupMatches.csv', sep=',')\n",
    "df_players = pd.read_csv('data_raw/WorldCupPlayers.csv', sep=',')\n",
    "df_cups = pd.read_csv('data_raw/WorldCups.csv', sep=',')\n",
    "\n",
    "df_events = pd.read_csv('data_prepared/event.csv', sep=',').replace(np.nan, '', regex=True)\n",
    "df_penalties = pd.read_csv('data_prepared/penalties.csv', encoding='iso-8859-1', sep=',')"
   ]
  },
  {
   "cell_type": "markdown",
   "metadata": {},
   "source": [
    "# Wie oft hat sich ein zurückliegendes Team den Sieg geholt?"
   ]
  },
  {
   "cell_type": "code",
   "execution_count": 2,
   "metadata": {},
   "outputs": [],
   "source": [
    "ht_wins_after_residual = 0\n",
    "at_wins_after_residual = 0\n",
    "halftime_tie = 0\n",
    "regular_time_tie = 0\n",
    "leading_team_wins = 0\n",
    "\n",
    "df_grouped_events = df_events.groupby([\"MatchID\"]).mean()\n",
    "\n",
    "for index, row in df_grouped_events.iterrows():\n",
    "    # ignore penalties and extra time\n",
    "    if row[\"Penalty\"] == True or row[\"ExtraTime\"] == True:\n",
    "        continue\n",
    "    if row[\"Half-time Home Goals\"] == row[\"Half-time Away Goals\"]:\n",
    "        halftime_tie+=1\n",
    "        continue\n",
    "    if row[\"Home Team Goals\"] == row[\"Away Team Goals\"]:\n",
    "        regular_time_tie +=1\n",
    "        continue\n",
    "    if row[\"Half-time Home Goals\"] > row[\"Half-time Away Goals\"] and row[\"Home Team Goals\"] < row[\"Away Team Goals\"]:\n",
    "        at_wins_after_residual+=1\n",
    "        continue\n",
    "    if row[\"Half-time Home Goals\"] < row[\"Half-time Away Goals\"] and row[\"Home Team Goals\"] > row[\"Away Team Goals\"]:\n",
    "        ht_wins_after_residual+=1\n",
    "        continue  \n",
    "    leading_team_wins+=1\n",
    "    "
   ]
  },
  {
   "cell_type": "code",
   "execution_count": 3,
   "metadata": {},
   "outputs": [
    {
     "data": {
      "image/png": "[encoded data removed]",
      "text/plain": [
       "<Figure size 432x288 with 1 Axes>"
      ]
     },
     "metadata": {},
     "output_type": "display_data"
    }
   ],
   "source": [
    "decision_changed_after_ht = ht_wins_after_residual + at_wins_after_residual\n",
    "y = [decision_changed_after_ht, halftime_tie, regular_time_tie, leading_team_wins]\n",
    "x = [\"Decision changed\", \"Halftime tie\", \"Regular time tie\", \"Leading Team Wins\"]\n",
    "plt.bar(x = x, height = y)\n",
    "\n",
    "plt.show()"
   ]
  },
  {
   "cell_type": "code",
   "execution_count": 4,
   "metadata": {},
   "outputs": [],
   "source": [
    "total_matches = decision_changed_after_ht + halftime_tie + regular_time_tie + leading_team_wins"
   ]
  },
  {
   "cell_type": "code",
   "execution_count": 5,
   "metadata": {},
   "outputs": [
    {
     "data": {
      "text/plain": [
       "38"
      ]
     },
     "execution_count": 5,
     "metadata": {},
     "output_type": "execute_result"
    }
   ],
   "source": [
    "decision_changed_after_ht"
   ]
  },
  {
   "cell_type": "code",
   "execution_count": 6,
   "metadata": {},
   "outputs": [
    {
     "data": {
      "text/plain": [
       "779"
      ]
     },
     "execution_count": 6,
     "metadata": {},
     "output_type": "execute_result"
    }
   ],
   "source": [
    "total_matches"
   ]
  },
  {
   "cell_type": "markdown",
   "metadata": {},
   "source": [
    "## Antwort: Von knapp 780 Spielen werden weniger als 40 Spiele gedreht"
   ]
  },
  {
   "cell_type": "markdown",
   "metadata": {},
   "source": [
    "### Hier wird nicht berücksichtigt: Spiele mit Elfmeterschießen oder Nachspielzeit und es wird nicht zwischen Gruppen- und KO-Phase unterschieden"
   ]
  },
  {
   "cell_type": "markdown",
   "metadata": {},
   "source": [
    "# Wann steht der Gewinner fest?"
   ]
  },
  {
   "cell_type": "code",
   "execution_count": 7,
   "metadata": {},
   "outputs": [],
   "source": [
    "# data preparation: event data since 1986\n",
    "df_relevant_events=df_events.loc[(df_events['Year'] >= 1986)]"
   ]
  },
  {
   "cell_type": "code",
   "execution_count": 8,
   "metadata": {},
   "outputs": [],
   "source": [
    "df_relevant_events = df_relevant_events.groupby([\"MatchID\"]).mean()"
   ]
  },
  {
   "cell_type": "code",
   "execution_count": 9,
   "metadata": {},
   "outputs": [],
   "source": [
    "first_half_decided_group = 0\n",
    "second_half_decided_group = 0\n",
    "first_half_decided = 0\n",
    "second_half_decided = 0\n",
    "extra_time_decided = 0\n",
    "penalty_decided = 0\n",
    "\n",
    "for index, row in df_relevant_events.iterrows():\n",
    "    if row[\"Home Team Goals\"] == row[\"Half-time Home Goals\"] and row[\"Away Team Goals\"] == row[\"Half-time Away Goals\"] and row[\"Penalty\"] == False:\n",
    "        if row[\"Home Team Goals\"] == row[\"Away Team Goals\"]:\n",
    "            continue\n",
    "        if row[\"StageRank\"] > 1:\n",
    "            first_half_decided+=1\n",
    "        else:\n",
    "            first_half_decided_group+=1\n",
    "        continue\n",
    "    if row[\"ExtraTime\"] == True and row[\"Penalty\"] == False:\n",
    "        extra_time_decided+=1\n",
    "        continue\n",
    "    if row[\"Penalty\"] == True:\n",
    "        penalty_decided+=1\n",
    "        continue\n",
    "    if row[\"StageRank\"] > 1:\n",
    "        second_half_decided+=1\n",
    "    else:\n",
    "        second_half_decided_group+=1"
   ]
  },
  {
   "cell_type": "markdown",
   "metadata": {},
   "source": [
    "## Betrachtung der KO-Phase"
   ]
  },
  {
   "cell_type": "code",
   "execution_count": 10,
   "metadata": {},
   "outputs": [
    {
     "data": {
      "image/png": "[encoded data removed]",
      "text/plain": [
       "<Figure size 432x288 with 1 Axes>"
      ]
     },
     "metadata": {},
     "output_type": "display_data"
    }
   ],
   "source": [
    "match_decisions = [first_half_decided, second_half_decided, extra_time_decided, penalty_decided]\n",
    "match_axis = [\"First Half\", \"Second Half\", \"Extra Time\", \"Penalty\"]\n",
    "plt.bar(x = match_axis, height = match_decisions)\n",
    "\n",
    "plt.show()"
   ]
  },
  {
   "cell_type": "markdown",
   "metadata": {},
   "source": [
    "## Betrachtung der Gruppen-Phase"
   ]
  },
  {
   "cell_type": "code",
   "execution_count": 11,
   "metadata": {},
   "outputs": [
    {
     "data": {
      "image/png": "[encoded data removed]",
      "text/plain": [
       "<Figure size 432x288 with 1 Axes>"
      ]
     },
     "metadata": {},
     "output_type": "display_data"
    }
   ],
   "source": [
    "match_decisions = [first_half_decided_group, second_half_decided_group]\n",
    "match_axis = [\"First Half\", \"Second Half\"]\n",
    "plt.bar(x = match_axis, height = match_decisions)\n",
    "\n",
    "plt.show()"
   ]
  },
  {
   "cell_type": "markdown",
   "metadata": {},
   "source": [
    "# Vorhersage zu welcher Spielphase sich ein Spiel entscheidet"
   ]
  },
  {
   "cell_type": "code",
   "execution_count": 12,
   "metadata": {},
   "outputs": [],
   "source": [
    "# data prep\n",
    "df_relevant_events # events since 1986\n",
    "df_relevant_events = df_relevant_events.groupby([\"MatchID\"]).mean()\n",
    "# df_relevant_events"
   ]
  },
  {
   "cell_type": "code",
   "execution_count": 13,
   "metadata": {},
   "outputs": [],
   "source": [
    "# lambda function\n",
    "def calculateDecisionPhase(x):\n",
    "    if x[\"Home Team Goals\"] == x[\"Half-time Home Goals\"] and x[\"Away Team Goals\"] == x[\"Half-time Away Goals\"] and x[\"Penalty\"] == False:\n",
    "        if x[\"Home Team Goals\"] == x[\"Away Team Goals\"]:\n",
    "            return 0\n",
    "        else:\n",
    "            return 1\n",
    "    if x[\"ExtraTime\"] == True and x[\"Penalty\"] == False:\n",
    "        return 3\n",
    "    if x[\"Penalty\"] == True:\n",
    "        return 4\n",
    "    return 2"
   ]
  },
  {
   "cell_type": "code",
   "execution_count": 14,
   "metadata": {},
   "outputs": [],
   "source": [
    "def calculateWorldCupStage(x):\n",
    "    if x[\"StageRank\"] == 1:\n",
    "        return 0 # group phase\n",
    "    return 1 # ko phase"
   ]
  },
  {
   "cell_type": "code",
   "execution_count": 15,
   "metadata": {},
   "outputs": [],
   "source": [
    "df_relevant_events_truth = df_relevant_events\n",
    "df_relevant_events_truth[\"DecisionPhase\"] = df_relevant_events_truth.apply(calculateDecisionPhase, axis=1)\n",
    "df_relevant_events_truth[\"WorldCupStage\"] = df_relevant_events_truth.apply(calculateWorldCupStage, axis=1)\n",
    "\n",
    "# df_relevant_events_truth"
   ]
  },
  {
   "cell_type": "markdown",
   "metadata": {},
   "source": [
    "## KNN"
   ]
  },
  {
   "cell_type": "code",
   "execution_count": 16,
   "metadata": {},
   "outputs": [],
   "source": [
    "# Normalization\n",
    "from sklearn.preprocessing import MinMaxScaler\n",
    "scaler = MinMaxScaler()\n",
    "\n",
    "\n",
    "df_relevant_events_truth[[\"WorldCupStage\", \"Home Team Goals\", \"Half-time Home Goals\", \"Away Team Goals\", \"Half-time Away Goals\", \"ExtraTime\", \"Penalty\"]] = scaler.fit_transform(df_relevant_events_truth[[\"WorldCupStage\", \"Home Team Goals\", \"Half-time Home Goals\", \"Away Team Goals\", \"Half-time Away Goals\", \"ExtraTime\", \"Penalty\"]])\n",
    "# Values\n",
    "x = np.array(df_relevant_events_truth[[\"WorldCupStage\", \"Home Team Goals\", \"Half-time Home Goals\", \"Away Team Goals\", \"Half-time Away Goals\", \"ExtraTime\", \"Penalty\"]])\n",
    "\n",
    "# Labels\n",
    "y = np.array(df_relevant_events_truth[\"DecisionPhase\"]) "
   ]
  },
  {
   "cell_type": "code",
   "execution_count": 17,
   "metadata": {},
   "outputs": [
    {
     "name": "stderr",
     "output_type": "stream",
     "text": [
      "C:\\Users\\D064012\\AppData\\Local\\Continuum\\anaconda3\\lib\\site-packages\\sklearn\\cross_validation.py:41: DeprecationWarning: This module was deprecated in version 0.18 in favor of the model_selection module into which all the refactored classes and functions are moved. Also note that the interface of the new CV iterators are different from that of this module. This module will be removed in 0.20.\n",
      "  \"This module will be removed in 0.20.\", DeprecationWarning)\n"
     ]
    }
   ],
   "source": [
    "# Split data\n",
    "from sklearn.cross_validation import train_test_split\n",
    "X_train, X_test, Y_train, Y_test = train_test_split(x, y, test_size=0.3, random_state=101)"
   ]
  },
  {
   "cell_type": "code",
   "execution_count": 18,
   "metadata": {},
   "outputs": [],
   "source": [
    "from sklearn.neighbors import KNeighborsClassifier\n",
    "from sklearn.metrics import accuracy_score\n",
    "\n",
    "# fit decision tree\n",
    "clf = KNeighborsClassifier()\n",
    "clf = clf.fit(X_train, Y_train)\n",
    "\n",
    "# compute accuracy\n",
    "y_pred = clf.predict(X_test)\n",
    "score = clf.score(X_test, Y_test)\n",
    "\n",
    "train_score = accuracy_score(clf.predict(X_train), Y_train)"
   ]
  },
  {
   "cell_type": "code",
   "execution_count": 19,
   "metadata": {},
   "outputs": [
    {
     "data": {
      "text/plain": [
       "0.9669669669669669"
      ]
     },
     "execution_count": 19,
     "metadata": {},
     "output_type": "execute_result"
    }
   ],
   "source": [
    "train_score"
   ]
  },
  {
   "cell_type": "code",
   "execution_count": 20,
   "metadata": {},
   "outputs": [
    {
     "data": {
      "text/plain": [
       "array([2, 0, 2, 4, 2, 2, 2, 2, 2, 2, 2, 4, 2, 2, 0, 2, 0, 2, 0, 2, 2, 2,\n",
       "       2, 2, 2, 1, 2, 2, 0, 2, 2, 2, 2, 2, 2, 2, 2, 2, 2, 2, 1, 2, 2, 2,\n",
       "       2, 2, 0, 2, 3, 2, 2, 1, 2, 2, 2, 2, 2, 0, 4, 2, 2, 3, 1, 2, 2, 2,\n",
       "       2, 2, 2, 2, 2, 1, 2, 2, 2, 1, 2, 1, 2, 1, 2, 2, 0, 2, 4, 4, 2, 2,\n",
       "       2, 2, 1, 2, 2, 2, 0, 2, 4, 3, 2, 2, 2, 2, 2, 2, 2, 4, 2, 2, 2, 2,\n",
       "       2, 1, 4, 2, 2, 2, 2, 2, 2, 2, 2, 2, 2, 1, 1, 0, 2, 0, 2, 2, 2, 2,\n",
       "       2, 2, 2, 2, 3, 1, 2, 0, 2, 2, 2], dtype=int64)"
      ]
     },
     "execution_count": 20,
     "metadata": {},
     "output_type": "execute_result"
    }
   ],
   "source": [
    "y_pred"
   ]
  },
  {
   "cell_type": "code",
   "execution_count": 21,
   "metadata": {},
   "outputs": [
    {
     "data": {
      "text/plain": [
       "0.9370629370629371"
      ]
     },
     "execution_count": 21,
     "metadata": {},
     "output_type": "execute_result"
    }
   ],
   "source": [
    "score"
   ]
  },
  {
   "cell_type": "code",
   "execution_count": 22,
   "metadata": {},
   "outputs": [],
   "source": [
    "# for comparison also compute accuracy for base model (always output zero)\n",
    "y_base_pred = np.full(shape = (len(Y_test)), fill_value=2) # two as most matches are decided in second half \n",
    "base_score = accuracy_score(y_base_pred, Y_test)"
   ]
  },
  {
   "cell_type": "code",
   "execution_count": 23,
   "metadata": {},
   "outputs": [
    {
     "data": {
      "text/plain": [
       "0.6923076923076923"
      ]
     },
     "execution_count": 23,
     "metadata": {},
     "output_type": "execute_result"
    }
   ],
   "source": [
    "base_score"
   ]
  },
  {
   "cell_type": "markdown",
   "metadata": {},
   "source": [
    "## Ergebnis des KNN: \n",
    "* Knapp 440 Datensätze\n",
    "* Insgesamt 7 Features (Merkmale des Datensatzes)\n",
    "    * Home Team Goals\n",
    "    * Away Team Goals\n",
    "    * Half Time Home Goals\n",
    "    * Half Time Away Goals\n",
    "    * Entra Time?\n",
    "    * Penalty?\n",
    "* Trainings Accuracy: 96,6%\n",
    "* Test Accuracy: 93,7%\n",
    "* Base Accuracy: 69,2% (Base = 2. Halbzeit entscheidend)"
   ]
  },
  {
   "cell_type": "markdown",
   "metadata": {},
   "source": [
    "## Decision Tree"
   ]
  },
  {
   "cell_type": "code",
   "execution_count": 24,
   "metadata": {},
   "outputs": [],
   "source": [
    "from sklearn import tree\n",
    "from sklearn.metrics import accuracy_score\n",
    "\n",
    "# fit decision tree\n",
    "clf = tree.DecisionTreeClassifier(max_depth = 7)\n",
    "clf = clf.fit(X_train, Y_train)\n",
    "\n",
    "# compute accuracy\n",
    "y_pred = clf.predict(X_test)\n",
    "score = clf.score(X_test, Y_test)\n",
    "\n",
    "train_score = accuracy_score(clf.predict(X_train), Y_train)"
   ]
  },
  {
   "cell_type": "code",
   "execution_count": 25,
   "metadata": {},
   "outputs": [
    {
     "data": {
      "text/plain": [
       "array([2, 0, 2, 4, 1, 2, 2, 1, 2, 2, 2, 4, 2, 2, 0, 2, 0, 2, 0, 2, 2, 2,\n",
       "       2, 2, 2, 1, 2, 2, 0, 1, 1, 2, 2, 2, 2, 2, 2, 1, 2, 2, 1, 2, 2, 2,\n",
       "       2, 2, 0, 2, 3, 2, 2, 1, 2, 2, 2, 2, 2, 0, 4, 2, 2, 3, 1, 2, 2, 2,\n",
       "       2, 2, 2, 2, 2, 1, 2, 2, 2, 1, 2, 1, 2, 1, 2, 2, 0, 1, 4, 4, 2, 2,\n",
       "       2, 2, 1, 2, 2, 2, 0, 2, 4, 3, 2, 2, 2, 2, 2, 2, 2, 4, 2, 2, 2, 2,\n",
       "       2, 1, 4, 2, 2, 2, 2, 2, 2, 2, 1, 2, 2, 1, 2, 0, 2, 0, 2, 2, 2, 2,\n",
       "       2, 1, 2, 2, 3, 1, 2, 0, 2, 2, 2], dtype=int64)"
      ]
     },
     "execution_count": 25,
     "metadata": {},
     "output_type": "execute_result"
    }
   ],
   "source": [
    "y_pred"
   ]
  },
  {
   "cell_type": "code",
   "execution_count": 26,
   "metadata": {},
   "outputs": [
    {
     "data": {
      "text/plain": [
       "0.986013986013986"
      ]
     },
     "execution_count": 26,
     "metadata": {},
     "output_type": "execute_result"
    }
   ],
   "source": [
    "score"
   ]
  },
  {
   "cell_type": "code",
   "execution_count": 27,
   "metadata": {},
   "outputs": [
    {
     "data": {
      "text/plain": [
       "0.984984984984985"
      ]
     },
     "execution_count": 27,
     "metadata": {},
     "output_type": "execute_result"
    }
   ],
   "source": [
    "train_score"
   ]
  },
  {
   "cell_type": "code",
   "execution_count": 28,
   "metadata": {},
   "outputs": [
    {
     "data": {
      "image/svg+xml": [
       "<?xml version=\"1.0\" encoding=\"UTF-8\" standalone=\"no\"?>\r\n",
       "<!DOCTYPE svg PUBLIC \"-//W3C//DTD SVG 1.1//EN\"\r\n",
       " \"http://www.w3.org/Graphics/SVG/1.1/DTD/svg11.dtd\">\r\n",
       "<!-- Generated by graphviz version 2.38.0 (20140413.2041)\r\n",
       " -->\r\n",
       "<!-- Title: Tree Pages: 1 -->\r\n",
       "<svg width=\"1666pt\" height=\"909pt\"\r\n",
       " viewBox=\"0.00 0.00 1665.50 909.00\" xmlns=\"http://www.w3.org/2000/svg\" xmlns:xlink=\"http://www.w3.org/1999/xlink\">\r\n",
       "<g id=\"graph0\" class=\"graph\" transform=\"scale(1 1) rotate(0) translate(4 905)\">\r\n",
       "<title>Tree</title>\r\n",
       "<polygon fill=\"white\" stroke=\"none\" points=\"-4,4 -4,-905 1661.5,-905 1661.5,4 -4,4\"/>\r\n",
       "<!-- 0 -->\r\n",
       "<g id=\"node1\" class=\"node\"><title>0</title>\r\n",
       "<path fill=\"#39e5c5\" fill-opacity=\"0.686275\" stroke=\"black\" d=\"M799.5,-901C799.5,-901 629.5,-901 629.5,-901 623.5,-901 617.5,-895 617.5,-889 617.5,-889 617.5,-830 617.5,-830 617.5,-824 623.5,-818 629.5,-818 629.5,-818 799.5,-818 799.5,-818 805.5,-818 811.5,-824 811.5,-830 811.5,-830 811.5,-889 811.5,-889 811.5,-895 805.5,-901 799.5,-901\"/>\r\n",
       "<text text-anchor=\"start\" x=\"664.5\" y=\"-885.8\" font-family=\"Helvetica,sans-Serif\" font-size=\"14.00\">ExtraTime ≤ 0.5</text>\r\n",
       "<text text-anchor=\"start\" x=\"677\" y=\"-870.8\" font-family=\"Helvetica,sans-Serif\" font-size=\"14.00\">gini = 0.458</text>\r\n",
       "<text text-anchor=\"start\" x=\"667\" y=\"-855.8\" font-family=\"Helvetica,sans-Serif\" font-size=\"14.00\">samples = 333</text>\r\n",
       "<text text-anchor=\"start\" x=\"625.5\" y=\"-840.8\" font-family=\"Helvetica,sans-Serif\" font-size=\"14.00\">value = [24, 37, 240, 15, 17]</text>\r\n",
       "<text text-anchor=\"start\" x=\"649\" y=\"-825.8\" font-family=\"Helvetica,sans-Serif\" font-size=\"14.00\">class = RG&#45;Decision</text>\r\n",
       "</g>\r\n",
       "<!-- 1 -->\r\n",
       "<g id=\"node2\" class=\"node\"><title>1</title>\r\n",
       "<path fill=\"#39e5c5\" fill-opacity=\"0.768627\" stroke=\"black\" d=\"M697.5,-782C697.5,-782 533.5,-782 533.5,-782 527.5,-782 521.5,-776 521.5,-770 521.5,-770 521.5,-711 521.5,-711 521.5,-705 527.5,-699 533.5,-699 533.5,-699 697.5,-699 697.5,-699 703.5,-699 709.5,-705 709.5,-711 709.5,-711 709.5,-770 709.5,-770 709.5,-776 703.5,-782 697.5,-782\"/>\r\n",
       "<text text-anchor=\"start\" x=\"529.5\" y=\"-766.8\" font-family=\"Helvetica,sans-Serif\" font-size=\"14.00\">Home Team Goals ≤ 0.062</text>\r\n",
       "<text text-anchor=\"start\" x=\"578\" y=\"-751.8\" font-family=\"Helvetica,sans-Serif\" font-size=\"14.00\">gini = 0.343</text>\r\n",
       "<text text-anchor=\"start\" x=\"568\" y=\"-736.8\" font-family=\"Helvetica,sans-Serif\" font-size=\"14.00\">samples = 301</text>\r\n",
       "<text text-anchor=\"start\" x=\"535\" y=\"-721.8\" font-family=\"Helvetica,sans-Serif\" font-size=\"14.00\">value = [24, 37, 240, 0, 0]</text>\r\n",
       "<text text-anchor=\"start\" x=\"550\" y=\"-706.8\" font-family=\"Helvetica,sans-Serif\" font-size=\"14.00\">class = RG&#45;Decision</text>\r\n",
       "</g>\r\n",
       "<!-- 0&#45;&gt;1 -->\r\n",
       "<g id=\"edge1\" class=\"edge\"><title>0&#45;&gt;1</title>\r\n",
       "<path fill=\"none\" stroke=\"black\" d=\"M680.152,-817.907C672.474,-808.832 664.256,-799.121 656.343,-789.769\"/>\r\n",
       "<polygon fill=\"black\" stroke=\"black\" points=\"658.918,-787.394 649.787,-782.021 653.574,-791.916 658.918,-787.394\"/>\r\n",
       "<text text-anchor=\"middle\" x=\"647.711\" y=\"-803.234\" font-family=\"Helvetica,sans-Serif\" font-size=\"14.00\">True</text>\r\n",
       "</g>\r\n",
       "<!-- 34 -->\r\n",
       "<g id=\"node35\" class=\"node\"><title>34</title>\r\n",
       "<path fill=\"#e539c0\" fill-opacity=\"0.117647\" stroke=\"black\" d=\"M882,-782C882,-782 745,-782 745,-782 739,-782 733,-776 733,-770 733,-770 733,-711 733,-711 733,-705 739,-699 745,-699 745,-699 882,-699 882,-699 888,-699 894,-705 894,-711 894,-711 894,-770 894,-770 894,-776 888,-782 882,-782\"/>\r\n",
       "<text text-anchor=\"start\" x=\"772.5\" y=\"-766.8\" font-family=\"Helvetica,sans-Serif\" font-size=\"14.00\">Penalty ≤ 0.5</text>\r\n",
       "<text text-anchor=\"start\" x=\"776\" y=\"-751.8\" font-family=\"Helvetica,sans-Serif\" font-size=\"14.00\">gini = 0.498</text>\r\n",
       "<text text-anchor=\"start\" x=\"770\" y=\"-736.8\" font-family=\"Helvetica,sans-Serif\" font-size=\"14.00\">samples = 32</text>\r\n",
       "<text text-anchor=\"start\" x=\"741\" y=\"-721.8\" font-family=\"Helvetica,sans-Serif\" font-size=\"14.00\">value = [0, 0, 0, 15, 17]</text>\r\n",
       "<text text-anchor=\"start\" x=\"765.5\" y=\"-706.8\" font-family=\"Helvetica,sans-Serif\" font-size=\"14.00\">class = Penalty</text>\r\n",
       "</g>\r\n",
       "<!-- 0&#45;&gt;34 -->\r\n",
       "<g id=\"edge34\" class=\"edge\"><title>0&#45;&gt;34</title>\r\n",
       "<path fill=\"none\" stroke=\"black\" d=\"M748.848,-817.907C756.526,-808.832 764.744,-799.121 772.657,-789.769\"/>\r\n",
       "<polygon fill=\"black\" stroke=\"black\" points=\"775.426,-791.916 779.213,-782.021 770.082,-787.394 775.426,-791.916\"/>\r\n",
       "<text text-anchor=\"middle\" x=\"781.289\" y=\"-803.234\" font-family=\"Helvetica,sans-Serif\" font-size=\"14.00\">False</text>\r\n",
       "</g>\r\n",
       "<!-- 2 -->\r\n",
       "<g id=\"node3\" class=\"node\"><title>2</title>\r\n",
       "<path fill=\"#39e5c5\" fill-opacity=\"0.419608\" stroke=\"black\" d=\"M481.5,-663C481.5,-663 321.5,-663 321.5,-663 315.5,-663 309.5,-657 309.5,-651 309.5,-651 309.5,-592 309.5,-592 309.5,-586 315.5,-580 321.5,-580 321.5,-580 481.5,-580 481.5,-580 487.5,-580 493.5,-586 493.5,-592 493.5,-592 493.5,-651 493.5,-651 493.5,-657 487.5,-663 481.5,-663\"/>\r\n",
       "<text text-anchor=\"start\" x=\"317.5\" y=\"-647.8\" font-family=\"Helvetica,sans-Serif\" font-size=\"14.00\">Away Team Goals ≤ 0.071</text>\r\n",
       "<text text-anchor=\"start\" x=\"364\" y=\"-632.8\" font-family=\"Helvetica,sans-Serif\" font-size=\"14.00\">gini = 0.587</text>\r\n",
       "<text text-anchor=\"start\" x=\"358\" y=\"-617.8\" font-family=\"Helvetica,sans-Serif\" font-size=\"14.00\">samples = 73</text>\r\n",
       "<text text-anchor=\"start\" x=\"325\" y=\"-602.8\" font-family=\"Helvetica,sans-Serif\" font-size=\"14.00\">value = [18, 14, 41, 0, 0]</text>\r\n",
       "<text text-anchor=\"start\" x=\"336\" y=\"-587.8\" font-family=\"Helvetica,sans-Serif\" font-size=\"14.00\">class = RG&#45;Decision</text>\r\n",
       "</g>\r\n",
       "<!-- 1&#45;&gt;2 -->\r\n",
       "<g id=\"edge2\" class=\"edge\"><title>1&#45;&gt;2</title>\r\n",
       "<path fill=\"none\" stroke=\"black\" d=\"M541.254,-698.907C522.912,-688.879 503.149,-678.075 484.424,-667.837\"/>\r\n",
       "<polygon fill=\"black\" stroke=\"black\" points=\"486.068,-664.747 475.615,-663.021 482.71,-670.889 486.068,-664.747\"/>\r\n",
       "</g>\r\n",
       "<!-- 13 -->\r\n",
       "<g id=\"node14\" class=\"node\"><title>13</title>\r\n",
       "<path fill=\"#39e5c5\" fill-opacity=\"0.858824\" stroke=\"black\" d=\"M707.5,-663C707.5,-663 523.5,-663 523.5,-663 517.5,-663 511.5,-657 511.5,-651 511.5,-651 511.5,-592 511.5,-592 511.5,-586 517.5,-580 523.5,-580 523.5,-580 707.5,-580 707.5,-580 713.5,-580 719.5,-586 719.5,-592 719.5,-592 719.5,-651 719.5,-651 719.5,-657 713.5,-663 707.5,-663\"/>\r\n",
       "<text text-anchor=\"start\" x=\"519.5\" y=\"-647.8\" font-family=\"Helvetica,sans-Serif\" font-size=\"14.00\">Half&#45;time Home Goals ≤ 0.125</text>\r\n",
       "<text text-anchor=\"start\" x=\"578\" y=\"-632.8\" font-family=\"Helvetica,sans-Serif\" font-size=\"14.00\">gini = 0.227</text>\r\n",
       "<text text-anchor=\"start\" x=\"568\" y=\"-617.8\" font-family=\"Helvetica,sans-Serif\" font-size=\"14.00\">samples = 228</text>\r\n",
       "<text text-anchor=\"start\" x=\"539\" y=\"-602.8\" font-family=\"Helvetica,sans-Serif\" font-size=\"14.00\">value = [6, 23, 199, 0, 0]</text>\r\n",
       "<text text-anchor=\"start\" x=\"550\" y=\"-587.8\" font-family=\"Helvetica,sans-Serif\" font-size=\"14.00\">class = RG&#45;Decision</text>\r\n",
       "</g>\r\n",
       "<!-- 1&#45;&gt;13 -->\r\n",
       "<g id=\"edge13\" class=\"edge\"><title>1&#45;&gt;13</title>\r\n",
       "<path fill=\"none\" stroke=\"black\" d=\"M615.5,-698.907C615.5,-690.649 615.5,-681.864 615.5,-673.302\"/>\r\n",
       "<polygon fill=\"black\" stroke=\"black\" points=\"619,-673.021 615.5,-663.021 612,-673.021 619,-673.021\"/>\r\n",
       "</g>\r\n",
       "<!-- 3 -->\r\n",
       "<g id=\"node4\" class=\"node\"><title>3</title>\r\n",
       "<path fill=\"#e58139\" stroke=\"black\" d=\"M278.5,-536.5C278.5,-536.5 150.5,-536.5 150.5,-536.5 144.5,-536.5 138.5,-530.5 138.5,-524.5 138.5,-524.5 138.5,-480.5 138.5,-480.5 138.5,-474.5 144.5,-468.5 150.5,-468.5 150.5,-468.5 278.5,-468.5 278.5,-468.5 284.5,-468.5 290.5,-474.5 290.5,-480.5 290.5,-480.5 290.5,-524.5 290.5,-524.5 290.5,-530.5 284.5,-536.5 278.5,-536.5\"/>\r\n",
       "<text text-anchor=\"start\" x=\"185.5\" y=\"-521.3\" font-family=\"Helvetica,sans-Serif\" font-size=\"14.00\">gini = 0.0</text>\r\n",
       "<text text-anchor=\"start\" x=\"171\" y=\"-506.3\" font-family=\"Helvetica,sans-Serif\" font-size=\"14.00\">samples = 18</text>\r\n",
       "<text text-anchor=\"start\" x=\"146.5\" y=\"-491.3\" font-family=\"Helvetica,sans-Serif\" font-size=\"14.00\">value = [18, 0, 0, 0, 0]</text>\r\n",
       "<text text-anchor=\"start\" x=\"179.5\" y=\"-476.3\" font-family=\"Helvetica,sans-Serif\" font-size=\"14.00\">class = Tie</text>\r\n",
       "</g>\r\n",
       "<!-- 2&#45;&gt;3 -->\r\n",
       "<g id=\"edge3\" class=\"edge\"><title>2&#45;&gt;3</title>\r\n",
       "<path fill=\"none\" stroke=\"black\" d=\"M336.621,-579.907C317.045,-567.659 295.616,-554.252 276.249,-542.135\"/>\r\n",
       "<polygon fill=\"black\" stroke=\"black\" points=\"277.844,-539.004 267.51,-536.667 274.131,-544.938 277.844,-539.004\"/>\r\n",
       "</g>\r\n",
       "<!-- 4 -->\r\n",
       "<g id=\"node5\" class=\"node\"><title>4</title>\r\n",
       "<path fill=\"#39e5c5\" fill-opacity=\"0.658824\" stroke=\"black\" d=\"M484,-544C484,-544 321,-544 321,-544 315,-544 309,-538 309,-532 309,-532 309,-473 309,-473 309,-467 315,-461 321,-461 321,-461 484,-461 484,-461 490,-461 496,-467 496,-473 496,-473 496,-532 496,-532 496,-538 490,-544 484,-544\"/>\r\n",
       "<text text-anchor=\"start\" x=\"317\" y=\"-528.8\" font-family=\"Helvetica,sans-Serif\" font-size=\"14.00\">Half&#45;time Away Goals ≤ 0.1</text>\r\n",
       "<text text-anchor=\"start\" x=\"369\" y=\"-513.8\" font-family=\"Helvetica,sans-Serif\" font-size=\"14.00\">gini = 0.38</text>\r\n",
       "<text text-anchor=\"start\" x=\"359\" y=\"-498.8\" font-family=\"Helvetica,sans-Serif\" font-size=\"14.00\">samples = 55</text>\r\n",
       "<text text-anchor=\"start\" x=\"330\" y=\"-483.8\" font-family=\"Helvetica,sans-Serif\" font-size=\"14.00\">value = [0, 14, 41, 0, 0]</text>\r\n",
       "<text text-anchor=\"start\" x=\"337\" y=\"-468.8\" font-family=\"Helvetica,sans-Serif\" font-size=\"14.00\">class = RG&#45;Decision</text>\r\n",
       "</g>\r\n",
       "<!-- 2&#45;&gt;4 -->\r\n",
       "<g id=\"edge4\" class=\"edge\"><title>2&#45;&gt;4</title>\r\n",
       "<path fill=\"none\" stroke=\"black\" d=\"M401.847,-579.907C401.918,-571.649 401.993,-562.864 402.066,-554.302\"/>\r\n",
       "<polygon fill=\"black\" stroke=\"black\" points=\"405.568,-554.05 402.154,-544.021 398.568,-553.99 405.568,-554.05\"/>\r\n",
       "</g>\r\n",
       "<!-- 5 -->\r\n",
       "<g id=\"node6\" class=\"node\"><title>5</title>\r\n",
       "<path fill=\"#39e5c5\" stroke=\"black\" d=\"M283.5,-417.5C283.5,-417.5 155.5,-417.5 155.5,-417.5 149.5,-417.5 143.5,-411.5 143.5,-405.5 143.5,-405.5 143.5,-361.5 143.5,-361.5 143.5,-355.5 149.5,-349.5 155.5,-349.5 155.5,-349.5 283.5,-349.5 283.5,-349.5 289.5,-349.5 295.5,-355.5 295.5,-361.5 295.5,-361.5 295.5,-405.5 295.5,-405.5 295.5,-411.5 289.5,-417.5 283.5,-417.5\"/>\r\n",
       "<text text-anchor=\"start\" x=\"190.5\" y=\"-402.3\" font-family=\"Helvetica,sans-Serif\" font-size=\"14.00\">gini = 0.0</text>\r\n",
       "<text text-anchor=\"start\" x=\"176\" y=\"-387.3\" font-family=\"Helvetica,sans-Serif\" font-size=\"14.00\">samples = 23</text>\r\n",
       "<text text-anchor=\"start\" x=\"151.5\" y=\"-372.3\" font-family=\"Helvetica,sans-Serif\" font-size=\"14.00\">value = [0, 0, 23, 0, 0]</text>\r\n",
       "<text text-anchor=\"start\" x=\"154\" y=\"-357.3\" font-family=\"Helvetica,sans-Serif\" font-size=\"14.00\">class = RG&#45;Decision</text>\r\n",
       "</g>\r\n",
       "<!-- 4&#45;&gt;5 -->\r\n",
       "<g id=\"edge5\" class=\"edge\"><title>4&#45;&gt;5</title>\r\n",
       "<path fill=\"none\" stroke=\"black\" d=\"M339.009,-460.907C319.851,-448.659 298.881,-435.252 279.929,-423.135\"/>\r\n",
       "<polygon fill=\"black\" stroke=\"black\" points=\"281.687,-420.105 271.376,-417.667 277.916,-426.002 281.687,-420.105\"/>\r\n",
       "</g>\r\n",
       "<!-- 6 -->\r\n",
       "<g id=\"node7\" class=\"node\"><title>6</title>\r\n",
       "<path fill=\"#39e5c5\" fill-opacity=\"0.223529\" stroke=\"black\" d=\"M485.5,-425C485.5,-425 325.5,-425 325.5,-425 319.5,-425 313.5,-419 313.5,-413 313.5,-413 313.5,-354 313.5,-354 313.5,-348 319.5,-342 325.5,-342 325.5,-342 485.5,-342 485.5,-342 491.5,-342 497.5,-348 497.5,-354 497.5,-354 497.5,-413 497.5,-413 497.5,-419 491.5,-425 485.5,-425\"/>\r\n",
       "<text text-anchor=\"start\" x=\"321.5\" y=\"-409.8\" font-family=\"Helvetica,sans-Serif\" font-size=\"14.00\">Away Team Goals ≤ 0.214</text>\r\n",
       "<text text-anchor=\"start\" x=\"368\" y=\"-394.8\" font-family=\"Helvetica,sans-Serif\" font-size=\"14.00\">gini = 0.492</text>\r\n",
       "<text text-anchor=\"start\" x=\"362\" y=\"-379.8\" font-family=\"Helvetica,sans-Serif\" font-size=\"14.00\">samples = 32</text>\r\n",
       "<text text-anchor=\"start\" x=\"333\" y=\"-364.8\" font-family=\"Helvetica,sans-Serif\" font-size=\"14.00\">value = [0, 14, 18, 0, 0]</text>\r\n",
       "<text text-anchor=\"start\" x=\"340\" y=\"-349.8\" font-family=\"Helvetica,sans-Serif\" font-size=\"14.00\">class = RG&#45;Decision</text>\r\n",
       "</g>\r\n",
       "<!-- 4&#45;&gt;6 -->\r\n",
       "<g id=\"edge6\" class=\"edge\"><title>4&#45;&gt;6</title>\r\n",
       "<path fill=\"none\" stroke=\"black\" d=\"M403.541,-460.907C403.755,-452.558 403.983,-443.671 404.205,-435.02\"/>\r\n",
       "<polygon fill=\"black\" stroke=\"black\" points=\"407.703,-435.107 404.461,-425.021 400.706,-434.928 407.703,-435.107\"/>\r\n",
       "</g>\r\n",
       "<!-- 7 -->\r\n",
       "<g id=\"node8\" class=\"node\"><title>7</title>\r\n",
       "<path fill=\"#7be539\" stroke=\"black\" d=\"M282.5,-298.5C282.5,-298.5 154.5,-298.5 154.5,-298.5 148.5,-298.5 142.5,-292.5 142.5,-286.5 142.5,-286.5 142.5,-242.5 142.5,-242.5 142.5,-236.5 148.5,-230.5 154.5,-230.5 154.5,-230.5 282.5,-230.5 282.5,-230.5 288.5,-230.5 294.5,-236.5 294.5,-242.5 294.5,-242.5 294.5,-286.5 294.5,-286.5 294.5,-292.5 288.5,-298.5 282.5,-298.5\"/>\r\n",
       "<text text-anchor=\"start\" x=\"189.5\" y=\"-283.3\" font-family=\"Helvetica,sans-Serif\" font-size=\"14.00\">gini = 0.0</text>\r\n",
       "<text text-anchor=\"start\" x=\"175\" y=\"-268.3\" font-family=\"Helvetica,sans-Serif\" font-size=\"14.00\">samples = 11</text>\r\n",
       "<text text-anchor=\"start\" x=\"150.5\" y=\"-253.3\" font-family=\"Helvetica,sans-Serif\" font-size=\"14.00\">value = [0, 11, 0, 0, 0]</text>\r\n",
       "<text text-anchor=\"start\" x=\"154.5\" y=\"-238.3\" font-family=\"Helvetica,sans-Serif\" font-size=\"14.00\">class = HT&#45;Decision</text>\r\n",
       "</g>\r\n",
       "<!-- 6&#45;&gt;7 -->\r\n",
       "<g id=\"edge7\" class=\"edge\"><title>6&#45;&gt;7</title>\r\n",
       "<path fill=\"none\" stroke=\"black\" d=\"M340.621,-341.907C321.045,-329.659 299.616,-316.252 280.249,-304.135\"/>\r\n",
       "<polygon fill=\"black\" stroke=\"black\" points=\"281.844,-301.004 271.51,-298.667 278.131,-306.938 281.844,-301.004\"/>\r\n",
       "</g>\r\n",
       "<!-- 8 -->\r\n",
       "<g id=\"node9\" class=\"node\"><title>8</title>\r\n",
       "<path fill=\"#39e5c5\" fill-opacity=\"0.831373\" stroke=\"black\" d=\"M488,-306C488,-306 325,-306 325,-306 319,-306 313,-300 313,-294 313,-294 313,-235 313,-235 313,-229 319,-223 325,-223 325,-223 488,-223 488,-223 494,-223 500,-229 500,-235 500,-235 500,-294 500,-294 500,-300 494,-306 488,-306\"/>\r\n",
       "<text text-anchor=\"start\" x=\"321\" y=\"-290.8\" font-family=\"Helvetica,sans-Serif\" font-size=\"14.00\">Half&#45;time Away Goals ≤ 0.5</text>\r\n",
       "<text text-anchor=\"start\" x=\"369\" y=\"-275.8\" font-family=\"Helvetica,sans-Serif\" font-size=\"14.00\">gini = 0.245</text>\r\n",
       "<text text-anchor=\"start\" x=\"363\" y=\"-260.8\" font-family=\"Helvetica,sans-Serif\" font-size=\"14.00\">samples = 21</text>\r\n",
       "<text text-anchor=\"start\" x=\"338.5\" y=\"-245.8\" font-family=\"Helvetica,sans-Serif\" font-size=\"14.00\">value = [0, 3, 18, 0, 0]</text>\r\n",
       "<text text-anchor=\"start\" x=\"341\" y=\"-230.8\" font-family=\"Helvetica,sans-Serif\" font-size=\"14.00\">class = RG&#45;Decision</text>\r\n",
       "</g>\r\n",
       "<!-- 6&#45;&gt;8 -->\r\n",
       "<g id=\"edge8\" class=\"edge\"><title>6&#45;&gt;8</title>\r\n",
       "<path fill=\"none\" stroke=\"black\" d=\"M405.847,-341.907C405.918,-333.649 405.993,-324.864 406.066,-316.302\"/>\r\n",
       "<polygon fill=\"black\" stroke=\"black\" points=\"409.568,-316.05 406.154,-306.021 402.568,-315.99 409.568,-316.05\"/>\r\n",
       "</g>\r\n",
       "<!-- 9 -->\r\n",
       "<g id=\"node10\" class=\"node\"><title>9</title>\r\n",
       "<path fill=\"#39e5c5\" fill-opacity=\"0.890196\" stroke=\"black\" d=\"M304.5,-187C304.5,-187 144.5,-187 144.5,-187 138.5,-187 132.5,-181 132.5,-175 132.5,-175 132.5,-116 132.5,-116 132.5,-110 138.5,-104 144.5,-104 144.5,-104 304.5,-104 304.5,-104 310.5,-104 316.5,-110 316.5,-116 316.5,-116 316.5,-175 316.5,-175 316.5,-181 310.5,-187 304.5,-187\"/>\r\n",
       "<text text-anchor=\"start\" x=\"140.5\" y=\"-171.8\" font-family=\"Helvetica,sans-Serif\" font-size=\"14.00\">Away Team Goals ≤ 0.357</text>\r\n",
       "<text text-anchor=\"start\" x=\"191\" y=\"-156.8\" font-family=\"Helvetica,sans-Serif\" font-size=\"14.00\">gini = 0.18</text>\r\n",
       "<text text-anchor=\"start\" x=\"181\" y=\"-141.8\" font-family=\"Helvetica,sans-Serif\" font-size=\"14.00\">samples = 20</text>\r\n",
       "<text text-anchor=\"start\" x=\"156.5\" y=\"-126.8\" font-family=\"Helvetica,sans-Serif\" font-size=\"14.00\">value = [0, 2, 18, 0, 0]</text>\r\n",
       "<text text-anchor=\"start\" x=\"159\" y=\"-111.8\" font-family=\"Helvetica,sans-Serif\" font-size=\"14.00\">class = RG&#45;Decision</text>\r\n",
       "</g>\r\n",
       "<!-- 8&#45;&gt;9 -->\r\n",
       "<g id=\"edge9\" class=\"edge\"><title>8&#45;&gt;9</title>\r\n",
       "<path fill=\"none\" stroke=\"black\" d=\"M343.356,-222.907C328.11,-213.106 311.709,-202.563 296.106,-192.533\"/>\r\n",
       "<polygon fill=\"black\" stroke=\"black\" points=\"297.837,-189.484 287.532,-187.021 294.052,-195.373 297.837,-189.484\"/>\r\n",
       "</g>\r\n",
       "<!-- 12 -->\r\n",
       "<g id=\"node13\" class=\"node\"><title>12</title>\r\n",
       "<path fill=\"#7be539\" stroke=\"black\" d=\"M466.5,-179.5C466.5,-179.5 346.5,-179.5 346.5,-179.5 340.5,-179.5 334.5,-173.5 334.5,-167.5 334.5,-167.5 334.5,-123.5 334.5,-123.5 334.5,-117.5 340.5,-111.5 346.5,-111.5 346.5,-111.5 466.5,-111.5 466.5,-111.5 472.5,-111.5 478.5,-117.5 478.5,-123.5 478.5,-123.5 478.5,-167.5 478.5,-167.5 478.5,-173.5 472.5,-179.5 466.5,-179.5\"/>\r\n",
       "<text text-anchor=\"start\" x=\"377.5\" y=\"-164.3\" font-family=\"Helvetica,sans-Serif\" font-size=\"14.00\">gini = 0.0</text>\r\n",
       "<text text-anchor=\"start\" x=\"367\" y=\"-149.3\" font-family=\"Helvetica,sans-Serif\" font-size=\"14.00\">samples = 1</text>\r\n",
       "<text text-anchor=\"start\" x=\"342.5\" y=\"-134.3\" font-family=\"Helvetica,sans-Serif\" font-size=\"14.00\">value = [0, 1, 0, 0, 0]</text>\r\n",
       "<text text-anchor=\"start\" x=\"342.5\" y=\"-119.3\" font-family=\"Helvetica,sans-Serif\" font-size=\"14.00\">class = HT&#45;Decision</text>\r\n",
       "</g>\r\n",
       "<!-- 8&#45;&gt;12 -->\r\n",
       "<g id=\"edge12\" class=\"edge\"><title>8&#45;&gt;12</title>\r\n",
       "<path fill=\"none\" stroke=\"black\" d=\"M406.5,-222.907C406.5,-212.204 406.5,-200.615 406.5,-189.776\"/>\r\n",
       "<polygon fill=\"black\" stroke=\"black\" points=\"410,-189.667 406.5,-179.667 403,-189.667 410,-189.667\"/>\r\n",
       "</g>\r\n",
       "<!-- 10 -->\r\n",
       "<g id=\"node11\" class=\"node\"><title>10</title>\r\n",
       "<path fill=\"#39e5c5\" fill-opacity=\"0.666667\" stroke=\"black\" d=\"M135,-68C135,-68 12,-68 12,-68 6,-68 0,-62 0,-56 0,-56 0,-12 0,-12 0,-6 6,-0 12,-0 12,-0 135,-0 135,-0 141,-0 147,-6 147,-12 147,-12 147,-56 147,-56 147,-62 141,-68 135,-68\"/>\r\n",
       "<text text-anchor=\"start\" x=\"36\" y=\"-52.8\" font-family=\"Helvetica,sans-Serif\" font-size=\"14.00\">gini = 0.375</text>\r\n",
       "<text text-anchor=\"start\" x=\"34\" y=\"-37.8\" font-family=\"Helvetica,sans-Serif\" font-size=\"14.00\">samples = 8</text>\r\n",
       "<text text-anchor=\"start\" x=\"9.5\" y=\"-22.8\" font-family=\"Helvetica,sans-Serif\" font-size=\"14.00\">value = [0, 2, 6, 0, 0]</text>\r\n",
       "<text text-anchor=\"start\" x=\"8\" y=\"-7.8\" font-family=\"Helvetica,sans-Serif\" font-size=\"14.00\">class = RG&#45;Decision</text>\r\n",
       "</g>\r\n",
       "<!-- 9&#45;&gt;10 -->\r\n",
       "<g id=\"edge10\" class=\"edge\"><title>9&#45;&gt;10</title>\r\n",
       "<path fill=\"none\" stroke=\"black\" d=\"M168.273,-103.726C154.941,-94.0582 140.749,-83.767 127.518,-74.172\"/>\r\n",
       "<polygon fill=\"black\" stroke=\"black\" points=\"129.57,-71.3368 119.42,-68.2996 125.461,-77.0036 129.57,-71.3368\"/>\r\n",
       "</g>\r\n",
       "<!-- 11 -->\r\n",
       "<g id=\"node12\" class=\"node\"><title>11</title>\r\n",
       "<path fill=\"#39e5c5\" stroke=\"black\" d=\"M305.5,-68C305.5,-68 177.5,-68 177.5,-68 171.5,-68 165.5,-62 165.5,-56 165.5,-56 165.5,-12 165.5,-12 165.5,-6 171.5,-0 177.5,-0 177.5,-0 305.5,-0 305.5,-0 311.5,-0 317.5,-6 317.5,-12 317.5,-12 317.5,-56 317.5,-56 317.5,-62 311.5,-68 305.5,-68\"/>\r\n",
       "<text text-anchor=\"start\" x=\"212.5\" y=\"-52.8\" font-family=\"Helvetica,sans-Serif\" font-size=\"14.00\">gini = 0.0</text>\r\n",
       "<text text-anchor=\"start\" x=\"198\" y=\"-37.8\" font-family=\"Helvetica,sans-Serif\" font-size=\"14.00\">samples = 12</text>\r\n",
       "<text text-anchor=\"start\" x=\"173.5\" y=\"-22.8\" font-family=\"Helvetica,sans-Serif\" font-size=\"14.00\">value = [0, 0, 12, 0, 0]</text>\r\n",
       "<text text-anchor=\"start\" x=\"176\" y=\"-7.8\" font-family=\"Helvetica,sans-Serif\" font-size=\"14.00\">class = RG&#45;Decision</text>\r\n",
       "</g>\r\n",
       "<!-- 9&#45;&gt;11 -->\r\n",
       "<g id=\"edge11\" class=\"edge\"><title>9&#45;&gt;11</title>\r\n",
       "<path fill=\"none\" stroke=\"black\" d=\"M230.83,-103.726C232.119,-95.4263 233.479,-86.6671 234.78,-78.2834\"/>\r\n",
       "<polygon fill=\"black\" stroke=\"black\" points=\"238.255,-78.7182 236.33,-68.2996 231.337,-77.6442 238.255,-78.7182\"/>\r\n",
       "</g>\r\n",
       "<!-- 14 -->\r\n",
       "<g id=\"node15\" class=\"node\"><title>14</title>\r\n",
       "<path fill=\"#39e5c5\" stroke=\"black\" d=\"M673.5,-536.5C673.5,-536.5 545.5,-536.5 545.5,-536.5 539.5,-536.5 533.5,-530.5 533.5,-524.5 533.5,-524.5 533.5,-480.5 533.5,-480.5 533.5,-474.5 539.5,-468.5 545.5,-468.5 545.5,-468.5 673.5,-468.5 673.5,-468.5 679.5,-468.5 685.5,-474.5 685.5,-480.5 685.5,-480.5 685.5,-524.5 685.5,-524.5 685.5,-530.5 679.5,-536.5 673.5,-536.5\"/>\r\n",
       "<text text-anchor=\"start\" x=\"580.5\" y=\"-521.3\" font-family=\"Helvetica,sans-Serif\" font-size=\"14.00\">gini = 0.0</text>\r\n",
       "<text text-anchor=\"start\" x=\"566\" y=\"-506.3\" font-family=\"Helvetica,sans-Serif\" font-size=\"14.00\">samples = 97</text>\r\n",
       "<text text-anchor=\"start\" x=\"541.5\" y=\"-491.3\" font-family=\"Helvetica,sans-Serif\" font-size=\"14.00\">value = [0, 0, 97, 0, 0]</text>\r\n",
       "<text text-anchor=\"start\" x=\"544\" y=\"-476.3\" font-family=\"Helvetica,sans-Serif\" font-size=\"14.00\">class = RG&#45;Decision</text>\r\n",
       "</g>\r\n",
       "<!-- 13&#45;&gt;14 -->\r\n",
       "<g id=\"edge14\" class=\"edge\"><title>13&#45;&gt;14</title>\r\n",
       "<path fill=\"none\" stroke=\"black\" d=\"M613.418,-579.907C612.869,-569.204 612.275,-557.615 611.719,-546.776\"/>\r\n",
       "<polygon fill=\"black\" stroke=\"black\" points=\"615.209,-546.475 611.201,-536.667 608.218,-546.833 615.209,-546.475\"/>\r\n",
       "</g>\r\n",
       "<!-- 15 -->\r\n",
       "<g id=\"node16\" class=\"node\"><title>15</title>\r\n",
       "<path fill=\"#39e5c5\" fill-opacity=\"0.733333\" stroke=\"black\" d=\"M879.5,-544C879.5,-544 715.5,-544 715.5,-544 709.5,-544 703.5,-538 703.5,-532 703.5,-532 703.5,-473 703.5,-473 703.5,-467 709.5,-461 715.5,-461 715.5,-461 879.5,-461 879.5,-461 885.5,-461 891.5,-467 891.5,-473 891.5,-473 891.5,-532 891.5,-532 891.5,-538 885.5,-544 879.5,-544\"/>\r\n",
       "<text text-anchor=\"start\" x=\"711.5\" y=\"-528.8\" font-family=\"Helvetica,sans-Serif\" font-size=\"14.00\">Home Team Goals ≤ 0.188</text>\r\n",
       "<text text-anchor=\"start\" x=\"760\" y=\"-513.8\" font-family=\"Helvetica,sans-Serif\" font-size=\"14.00\">gini = 0.361</text>\r\n",
       "<text text-anchor=\"start\" x=\"750\" y=\"-498.8\" font-family=\"Helvetica,sans-Serif\" font-size=\"14.00\">samples = 131</text>\r\n",
       "<text text-anchor=\"start\" x=\"721\" y=\"-483.8\" font-family=\"Helvetica,sans-Serif\" font-size=\"14.00\">value = [6, 23, 102, 0, 0]</text>\r\n",
       "<text text-anchor=\"start\" x=\"732\" y=\"-468.8\" font-family=\"Helvetica,sans-Serif\" font-size=\"14.00\">class = RG&#45;Decision</text>\r\n",
       "</g>\r\n",
       "<!-- 13&#45;&gt;15 -->\r\n",
       "<g id=\"edge15\" class=\"edge\"><title>13&#45;&gt;15</title>\r\n",
       "<path fill=\"none\" stroke=\"black\" d=\"M678.644,-579.907C693.89,-570.106 710.291,-559.563 725.894,-549.533\"/>\r\n",
       "<polygon fill=\"black\" stroke=\"black\" points=\"727.948,-552.373 734.468,-544.021 724.163,-546.484 727.948,-552.373\"/>\r\n",
       "</g>\r\n",
       "<!-- 16 -->\r\n",
       "<g id=\"node17\" class=\"node\"><title>16</title>\r\n",
       "<path fill=\"#39e5c5\" fill-opacity=\"0.109804\" stroke=\"black\" d=\"M875.5,-425C875.5,-425 715.5,-425 715.5,-425 709.5,-425 703.5,-419 703.5,-413 703.5,-413 703.5,-354 703.5,-354 703.5,-348 709.5,-342 715.5,-342 715.5,-342 875.5,-342 875.5,-342 881.5,-342 887.5,-348 887.5,-354 887.5,-354 887.5,-413 887.5,-413 887.5,-419 881.5,-425 875.5,-425\"/>\r\n",
       "<text text-anchor=\"start\" x=\"711.5\" y=\"-409.8\" font-family=\"Helvetica,sans-Serif\" font-size=\"14.00\">Away Team Goals ≤ 0.071</text>\r\n",
       "<text text-anchor=\"start\" x=\"758\" y=\"-394.8\" font-family=\"Helvetica,sans-Serif\" font-size=\"14.00\">gini = 0.604</text>\r\n",
       "<text text-anchor=\"start\" x=\"752\" y=\"-379.8\" font-family=\"Helvetica,sans-Serif\" font-size=\"14.00\">samples = 45</text>\r\n",
       "<text text-anchor=\"start\" x=\"723\" y=\"-364.8\" font-family=\"Helvetica,sans-Serif\" font-size=\"14.00\">value = [6, 18, 21, 0, 0]</text>\r\n",
       "<text text-anchor=\"start\" x=\"730\" y=\"-349.8\" font-family=\"Helvetica,sans-Serif\" font-size=\"14.00\">class = RG&#45;Decision</text>\r\n",
       "</g>\r\n",
       "<!-- 15&#45;&gt;16 -->\r\n",
       "<g id=\"edge16\" class=\"edge\"><title>15&#45;&gt;16</title>\r\n",
       "<path fill=\"none\" stroke=\"black\" d=\"M796.806,-460.907C796.663,-452.558 796.511,-443.671 796.364,-435.02\"/>\r\n",
       "<polygon fill=\"black\" stroke=\"black\" points=\"799.863,-434.959 796.193,-425.021 792.864,-435.079 799.863,-434.959\"/>\r\n",
       "</g>\r\n",
       "<!-- 25 -->\r\n",
       "<g id=\"node26\" class=\"node\"><title>25</title>\r\n",
       "<path fill=\"#39e5c5\" fill-opacity=\"0.937255\" stroke=\"black\" d=\"M1105.5,-425C1105.5,-425 921.5,-425 921.5,-425 915.5,-425 909.5,-419 909.5,-413 909.5,-413 909.5,-354 909.5,-354 909.5,-348 915.5,-342 921.5,-342 921.5,-342 1105.5,-342 1105.5,-342 1111.5,-342 1117.5,-348 1117.5,-354 1117.5,-354 1117.5,-413 1117.5,-413 1117.5,-419 1111.5,-425 1105.5,-425\"/>\r\n",
       "<text text-anchor=\"start\" x=\"917.5\" y=\"-409.8\" font-family=\"Helvetica,sans-Serif\" font-size=\"14.00\">Half&#45;time Home Goals ≤ 0.375</text>\r\n",
       "<text text-anchor=\"start\" x=\"980\" y=\"-394.8\" font-family=\"Helvetica,sans-Serif\" font-size=\"14.00\">gini = 0.11</text>\r\n",
       "<text text-anchor=\"start\" x=\"970\" y=\"-379.8\" font-family=\"Helvetica,sans-Serif\" font-size=\"14.00\">samples = 86</text>\r\n",
       "<text text-anchor=\"start\" x=\"945.5\" y=\"-364.8\" font-family=\"Helvetica,sans-Serif\" font-size=\"14.00\">value = [0, 5, 81, 0, 0]</text>\r\n",
       "<text text-anchor=\"start\" x=\"948\" y=\"-349.8\" font-family=\"Helvetica,sans-Serif\" font-size=\"14.00\">class = RG&#45;Decision</text>\r\n",
       "</g>\r\n",
       "<!-- 15&#45;&gt;25 -->\r\n",
       "<g id=\"edge25\" class=\"edge\"><title>15&#45;&gt;25</title>\r\n",
       "<path fill=\"none\" stroke=\"black\" d=\"M872.44,-460.907C890.953,-450.879 910.901,-440.075 929.801,-429.837\"/>\r\n",
       "<polygon fill=\"black\" stroke=\"black\" points=\"931.566,-432.861 938.692,-425.021 928.232,-426.706 931.566,-432.861\"/>\r\n",
       "</g>\r\n",
       "<!-- 17 -->\r\n",
       "<g id=\"node18\" class=\"node\"><title>17</title>\r\n",
       "<path fill=\"#7be539\" stroke=\"black\" d=\"M673.5,-298.5C673.5,-298.5 545.5,-298.5 545.5,-298.5 539.5,-298.5 533.5,-292.5 533.5,-286.5 533.5,-286.5 533.5,-242.5 533.5,-242.5 533.5,-236.5 539.5,-230.5 545.5,-230.5 545.5,-230.5 673.5,-230.5 673.5,-230.5 679.5,-230.5 685.5,-236.5 685.5,-242.5 685.5,-242.5 685.5,-286.5 685.5,-286.5 685.5,-292.5 679.5,-298.5 673.5,-298.5\"/>\r\n",
       "<text text-anchor=\"start\" x=\"580.5\" y=\"-283.3\" font-family=\"Helvetica,sans-Serif\" font-size=\"14.00\">gini = 0.0</text>\r\n",
       "<text text-anchor=\"start\" x=\"566\" y=\"-268.3\" font-family=\"Helvetica,sans-Serif\" font-size=\"14.00\">samples = 15</text>\r\n",
       "<text text-anchor=\"start\" x=\"541.5\" y=\"-253.3\" font-family=\"Helvetica,sans-Serif\" font-size=\"14.00\">value = [0, 15, 0, 0, 0]</text>\r\n",
       "<text text-anchor=\"start\" x=\"545.5\" y=\"-238.3\" font-family=\"Helvetica,sans-Serif\" font-size=\"14.00\">class = HT&#45;Decision</text>\r\n",
       "</g>\r\n",
       "<!-- 16&#45;&gt;17 -->\r\n",
       "<g id=\"edge17\" class=\"edge\"><title>16&#45;&gt;17</title>\r\n",
       "<path fill=\"none\" stroke=\"black\" d=\"M730.968,-341.907C711.497,-329.659 690.182,-316.252 670.919,-304.135\"/>\r\n",
       "<polygon fill=\"black\" stroke=\"black\" points=\"672.555,-301.029 662.227,-298.667 668.828,-306.954 672.555,-301.029\"/>\r\n",
       "</g>\r\n",
       "<!-- 18 -->\r\n",
       "<g id=\"node19\" class=\"node\"><title>18</title>\r\n",
       "<path fill=\"#39e5c5\" fill-opacity=\"0.623529\" stroke=\"black\" d=\"M875.5,-306C875.5,-306 715.5,-306 715.5,-306 709.5,-306 703.5,-300 703.5,-294 703.5,-294 703.5,-235 703.5,-235 703.5,-229 709.5,-223 715.5,-223 715.5,-223 875.5,-223 875.5,-223 881.5,-223 887.5,-229 887.5,-235 887.5,-235 887.5,-294 887.5,-294 887.5,-300 881.5,-306 875.5,-306\"/>\r\n",
       "<text text-anchor=\"start\" x=\"711.5\" y=\"-290.8\" font-family=\"Helvetica,sans-Serif\" font-size=\"14.00\">Away Team Goals ≤ 0.214</text>\r\n",
       "<text text-anchor=\"start\" x=\"762\" y=\"-275.8\" font-family=\"Helvetica,sans-Serif\" font-size=\"14.00\">gini = 0.46</text>\r\n",
       "<text text-anchor=\"start\" x=\"752\" y=\"-260.8\" font-family=\"Helvetica,sans-Serif\" font-size=\"14.00\">samples = 30</text>\r\n",
       "<text text-anchor=\"start\" x=\"727.5\" y=\"-245.8\" font-family=\"Helvetica,sans-Serif\" font-size=\"14.00\">value = [6, 3, 21, 0, 0]</text>\r\n",
       "<text text-anchor=\"start\" x=\"730\" y=\"-230.8\" font-family=\"Helvetica,sans-Serif\" font-size=\"14.00\">class = RG&#45;Decision</text>\r\n",
       "</g>\r\n",
       "<!-- 16&#45;&gt;18 -->\r\n",
       "<g id=\"edge18\" class=\"edge\"><title>16&#45;&gt;18</title>\r\n",
       "<path fill=\"none\" stroke=\"black\" d=\"M795.5,-341.907C795.5,-333.649 795.5,-324.864 795.5,-316.302\"/>\r\n",
       "<polygon fill=\"black\" stroke=\"black\" points=\"799,-316.021 795.5,-306.021 792,-316.021 799,-316.021\"/>\r\n",
       "</g>\r\n",
       "<!-- 19 -->\r\n",
       "<g id=\"node20\" class=\"node\"><title>19</title>\r\n",
       "<path fill=\"none\" stroke=\"black\" d=\"M672,-187C672,-187 509,-187 509,-187 503,-187 497,-181 497,-175 497,-175 497,-116 497,-116 497,-110 503,-104 509,-104 509,-104 672,-104 672,-104 678,-104 684,-110 684,-116 684,-116 684,-175 684,-175 684,-181 678,-187 672,-187\"/>\r\n",
       "<text text-anchor=\"start\" x=\"505\" y=\"-171.8\" font-family=\"Helvetica,sans-Serif\" font-size=\"14.00\">Half&#45;time Away Goals ≤ 0.1</text>\r\n",
       "<text text-anchor=\"start\" x=\"561.5\" y=\"-156.8\" font-family=\"Helvetica,sans-Serif\" font-size=\"14.00\">gini = 0.5</text>\r\n",
       "<text text-anchor=\"start\" x=\"547\" y=\"-141.8\" font-family=\"Helvetica,sans-Serif\" font-size=\"14.00\">samples = 12</text>\r\n",
       "<text text-anchor=\"start\" x=\"526.5\" y=\"-126.8\" font-family=\"Helvetica,sans-Serif\" font-size=\"14.00\">value = [6, 0, 6, 0, 0]</text>\r\n",
       "<text text-anchor=\"start\" x=\"555.5\" y=\"-111.8\" font-family=\"Helvetica,sans-Serif\" font-size=\"14.00\">class = Tie</text>\r\n",
       "</g>\r\n",
       "<!-- 18&#45;&gt;19 -->\r\n",
       "<g id=\"edge19\" class=\"edge\"><title>18&#45;&gt;19</title>\r\n",
       "<path fill=\"none\" stroke=\"black\" d=\"M724.376,-222.907C707.044,-213.016 688.388,-202.368 670.667,-192.254\"/>\r\n",
       "<polygon fill=\"black\" stroke=\"black\" points=\"671.918,-188.938 661.498,-187.021 668.448,-195.017 671.918,-188.938\"/>\r\n",
       "</g>\r\n",
       "<!-- 22 -->\r\n",
       "<g id=\"node23\" class=\"node\"><title>22</title>\r\n",
       "<path fill=\"#39e5c5\" fill-opacity=\"0.800000\" stroke=\"black\" d=\"M877,-187C877,-187 714,-187 714,-187 708,-187 702,-181 702,-175 702,-175 702,-116 702,-116 702,-110 708,-104 714,-104 714,-104 877,-104 877,-104 883,-104 889,-110 889,-116 889,-116 889,-175 889,-175 889,-181 883,-187 877,-187\"/>\r\n",
       "<text text-anchor=\"start\" x=\"710\" y=\"-171.8\" font-family=\"Helvetica,sans-Serif\" font-size=\"14.00\">Half&#45;time Away Goals ≤ 0.3</text>\r\n",
       "<text text-anchor=\"start\" x=\"758\" y=\"-156.8\" font-family=\"Helvetica,sans-Serif\" font-size=\"14.00\">gini = 0.278</text>\r\n",
       "<text text-anchor=\"start\" x=\"752\" y=\"-141.8\" font-family=\"Helvetica,sans-Serif\" font-size=\"14.00\">samples = 18</text>\r\n",
       "<text text-anchor=\"start\" x=\"727.5\" y=\"-126.8\" font-family=\"Helvetica,sans-Serif\" font-size=\"14.00\">value = [0, 3, 15, 0, 0]</text>\r\n",
       "<text text-anchor=\"start\" x=\"730\" y=\"-111.8\" font-family=\"Helvetica,sans-Serif\" font-size=\"14.00\">class = RG&#45;Decision</text>\r\n",
       "</g>\r\n",
       "<!-- 18&#45;&gt;22 -->\r\n",
       "<g id=\"edge22\" class=\"edge\"><title>18&#45;&gt;22</title>\r\n",
       "<path fill=\"none\" stroke=\"black\" d=\"M795.5,-222.907C795.5,-214.649 795.5,-205.864 795.5,-197.302\"/>\r\n",
       "<polygon fill=\"black\" stroke=\"black\" points=\"799,-197.021 795.5,-187.021 792,-197.021 799,-197.021\"/>\r\n",
       "</g>\r\n",
       "<!-- 20 -->\r\n",
       "<g id=\"node21\" class=\"node\"><title>20</title>\r\n",
       "<path fill=\"#39e5c5\" stroke=\"black\" d=\"M488,-68C488,-68 365,-68 365,-68 359,-68 353,-62 353,-56 353,-56 353,-12 353,-12 353,-6 359,-0 365,-0 365,-0 488,-0 488,-0 494,-0 500,-6 500,-12 500,-12 500,-56 500,-56 500,-62 494,-68 488,-68\"/>\r\n",
       "<text text-anchor=\"start\" x=\"397.5\" y=\"-52.8\" font-family=\"Helvetica,sans-Serif\" font-size=\"14.00\">gini = 0.0</text>\r\n",
       "<text text-anchor=\"start\" x=\"387\" y=\"-37.8\" font-family=\"Helvetica,sans-Serif\" font-size=\"14.00\">samples = 6</text>\r\n",
       "<text text-anchor=\"start\" x=\"362.5\" y=\"-22.8\" font-family=\"Helvetica,sans-Serif\" font-size=\"14.00\">value = [0, 0, 6, 0, 0]</text>\r\n",
       "<text text-anchor=\"start\" x=\"361\" y=\"-7.8\" font-family=\"Helvetica,sans-Serif\" font-size=\"14.00\">class = RG&#45;Decision</text>\r\n",
       "</g>\r\n",
       "<!-- 19&#45;&gt;20 -->\r\n",
       "<g id=\"edge20\" class=\"edge\"><title>19&#45;&gt;20</title>\r\n",
       "<path fill=\"none\" stroke=\"black\" d=\"M529.432,-103.726C514.74,-93.9161 499.086,-83.4644 484.536,-73.7496\"/>\r\n",
       "<polygon fill=\"black\" stroke=\"black\" points=\"486.372,-70.7673 476.112,-68.1252 482.485,-76.5889 486.372,-70.7673\"/>\r\n",
       "</g>\r\n",
       "<!-- 21 -->\r\n",
       "<g id=\"node22\" class=\"node\"><title>21</title>\r\n",
       "<path fill=\"#e58139\" stroke=\"black\" d=\"M650.5,-68C650.5,-68 530.5,-68 530.5,-68 524.5,-68 518.5,-62 518.5,-56 518.5,-56 518.5,-12 518.5,-12 518.5,-6 524.5,-0 530.5,-0 530.5,-0 650.5,-0 650.5,-0 656.5,-0 662.5,-6 662.5,-12 662.5,-12 662.5,-56 662.5,-56 662.5,-62 656.5,-68 650.5,-68\"/>\r\n",
       "<text text-anchor=\"start\" x=\"561.5\" y=\"-52.8\" font-family=\"Helvetica,sans-Serif\" font-size=\"14.00\">gini = 0.0</text>\r\n",
       "<text text-anchor=\"start\" x=\"551\" y=\"-37.8\" font-family=\"Helvetica,sans-Serif\" font-size=\"14.00\">samples = 6</text>\r\n",
       "<text text-anchor=\"start\" x=\"526.5\" y=\"-22.8\" font-family=\"Helvetica,sans-Serif\" font-size=\"14.00\">value = [6, 0, 0, 0, 0]</text>\r\n",
       "<text text-anchor=\"start\" x=\"555.5\" y=\"-7.8\" font-family=\"Helvetica,sans-Serif\" font-size=\"14.00\">class = Tie</text>\r\n",
       "</g>\r\n",
       "<!-- 19&#45;&gt;21 -->\r\n",
       "<g id=\"edge21\" class=\"edge\"><title>19&#45;&gt;21</title>\r\n",
       "<path fill=\"none\" stroke=\"black\" d=\"M590.5,-103.726C590.5,-95.5175 590.5,-86.8595 590.5,-78.56\"/>\r\n",
       "<polygon fill=\"black\" stroke=\"black\" points=\"594,-78.2996 590.5,-68.2996 587,-78.2996 594,-78.2996\"/>\r\n",
       "</g>\r\n",
       "<!-- 23 -->\r\n",
       "<g id=\"node24\" class=\"node\"><title>23</title>\r\n",
       "<path fill=\"#39e5c5\" stroke=\"black\" d=\"M820.5,-68C820.5,-68 692.5,-68 692.5,-68 686.5,-68 680.5,-62 680.5,-56 680.5,-56 680.5,-12 680.5,-12 680.5,-6 686.5,-0 692.5,-0 692.5,-0 820.5,-0 820.5,-0 826.5,-0 832.5,-6 832.5,-12 832.5,-12 832.5,-56 832.5,-56 832.5,-62 826.5,-68 820.5,-68\"/>\r\n",
       "<text text-anchor=\"start\" x=\"727.5\" y=\"-52.8\" font-family=\"Helvetica,sans-Serif\" font-size=\"14.00\">gini = 0.0</text>\r\n",
       "<text text-anchor=\"start\" x=\"713\" y=\"-37.8\" font-family=\"Helvetica,sans-Serif\" font-size=\"14.00\">samples = 13</text>\r\n",
       "<text text-anchor=\"start\" x=\"688.5\" y=\"-22.8\" font-family=\"Helvetica,sans-Serif\" font-size=\"14.00\">value = [0, 0, 13, 0, 0]</text>\r\n",
       "<text text-anchor=\"start\" x=\"691\" y=\"-7.8\" font-family=\"Helvetica,sans-Serif\" font-size=\"14.00\">class = RG&#45;Decision</text>\r\n",
       "</g>\r\n",
       "<!-- 22&#45;&gt;23 -->\r\n",
       "<g id=\"edge23\" class=\"edge\"><title>22&#45;&gt;23</title>\r\n",
       "<path fill=\"none\" stroke=\"black\" d=\"M780.978,-103.726C777.957,-95.2439 774.765,-86.2819 771.719,-77.7312\"/>\r\n",
       "<polygon fill=\"black\" stroke=\"black\" points=\"775.013,-76.5456 768.36,-68.2996 768.418,-78.8943 775.013,-76.5456\"/>\r\n",
       "</g>\r\n",
       "<!-- 24 -->\r\n",
       "<g id=\"node25\" class=\"node\"><title>24</title>\r\n",
       "<path fill=\"#7be539\" fill-opacity=\"0.333333\" stroke=\"black\" d=\"M982.5,-68C982.5,-68 862.5,-68 862.5,-68 856.5,-68 850.5,-62 850.5,-56 850.5,-56 850.5,-12 850.5,-12 850.5,-6 856.5,-0 862.5,-0 862.5,-0 982.5,-0 982.5,-0 988.5,-0 994.5,-6 994.5,-12 994.5,-12 994.5,-56 994.5,-56 994.5,-62 988.5,-68 982.5,-68\"/>\r\n",
       "<text text-anchor=\"start\" x=\"889\" y=\"-52.8\" font-family=\"Helvetica,sans-Serif\" font-size=\"14.00\">gini = 0.48</text>\r\n",
       "<text text-anchor=\"start\" x=\"883\" y=\"-37.8\" font-family=\"Helvetica,sans-Serif\" font-size=\"14.00\">samples = 5</text>\r\n",
       "<text text-anchor=\"start\" x=\"858.5\" y=\"-22.8\" font-family=\"Helvetica,sans-Serif\" font-size=\"14.00\">value = [0, 3, 2, 0, 0]</text>\r\n",
       "<text text-anchor=\"start\" x=\"858.5\" y=\"-7.8\" font-family=\"Helvetica,sans-Serif\" font-size=\"14.00\">class = HT&#45;Decision</text>\r\n",
       "</g>\r\n",
       "<!-- 22&#45;&gt;24 -->\r\n",
       "<g id=\"edge24\" class=\"edge\"><title>22&#45;&gt;24</title>\r\n",
       "<path fill=\"none\" stroke=\"black\" d=\"M842.79,-103.726C853.686,-94.3318 865.264,-84.349 876.121,-74.9883\"/>\r\n",
       "<polygon fill=\"black\" stroke=\"black\" points=\"878.59,-77.4804 883.879,-68.2996 874.019,-72.1789 878.59,-77.4804\"/>\r\n",
       "</g>\r\n",
       "<!-- 26 -->\r\n",
       "<g id=\"node27\" class=\"node\"><title>26</title>\r\n",
       "<path fill=\"#39e5c5\" stroke=\"black\" d=\"M1077.5,-298.5C1077.5,-298.5 949.5,-298.5 949.5,-298.5 943.5,-298.5 937.5,-292.5 937.5,-286.5 937.5,-286.5 937.5,-242.5 937.5,-242.5 937.5,-236.5 943.5,-230.5 949.5,-230.5 949.5,-230.5 1077.5,-230.5 1077.5,-230.5 1083.5,-230.5 1089.5,-236.5 1089.5,-242.5 1089.5,-242.5 1089.5,-286.5 1089.5,-286.5 1089.5,-292.5 1083.5,-298.5 1077.5,-298.5\"/>\r\n",
       "<text text-anchor=\"start\" x=\"984.5\" y=\"-283.3\" font-family=\"Helvetica,sans-Serif\" font-size=\"14.00\">gini = 0.0</text>\r\n",
       "<text text-anchor=\"start\" x=\"970\" y=\"-268.3\" font-family=\"Helvetica,sans-Serif\" font-size=\"14.00\">samples = 58</text>\r\n",
       "<text text-anchor=\"start\" x=\"945.5\" y=\"-253.3\" font-family=\"Helvetica,sans-Serif\" font-size=\"14.00\">value = [0, 0, 58, 0, 0]</text>\r\n",
       "<text text-anchor=\"start\" x=\"948\" y=\"-238.3\" font-family=\"Helvetica,sans-Serif\" font-size=\"14.00\">class = RG&#45;Decision</text>\r\n",
       "</g>\r\n",
       "<!-- 25&#45;&gt;26 -->\r\n",
       "<g id=\"edge26\" class=\"edge\"><title>25&#45;&gt;26</title>\r\n",
       "<path fill=\"none\" stroke=\"black\" d=\"M1013.5,-341.907C1013.5,-331.204 1013.5,-319.615 1013.5,-308.776\"/>\r\n",
       "<polygon fill=\"black\" stroke=\"black\" points=\"1017,-308.667 1013.5,-298.667 1010,-308.667 1017,-308.667\"/>\r\n",
       "</g>\r\n",
       "<!-- 27 -->\r\n",
       "<g id=\"node28\" class=\"node\"><title>27</title>\r\n",
       "<path fill=\"#39e5c5\" fill-opacity=\"0.784314\" stroke=\"black\" d=\"M1290.5,-306C1290.5,-306 1126.5,-306 1126.5,-306 1120.5,-306 1114.5,-300 1114.5,-294 1114.5,-294 1114.5,-235 1114.5,-235 1114.5,-229 1120.5,-223 1126.5,-223 1126.5,-223 1290.5,-223 1290.5,-223 1296.5,-223 1302.5,-229 1302.5,-235 1302.5,-235 1302.5,-294 1302.5,-294 1302.5,-300 1296.5,-306 1290.5,-306\"/>\r\n",
       "<text text-anchor=\"start\" x=\"1122.5\" y=\"-290.8\" font-family=\"Helvetica,sans-Serif\" font-size=\"14.00\">Home Team Goals ≤ 0.312</text>\r\n",
       "<text text-anchor=\"start\" x=\"1171\" y=\"-275.8\" font-family=\"Helvetica,sans-Serif\" font-size=\"14.00\">gini = 0.293</text>\r\n",
       "<text text-anchor=\"start\" x=\"1165\" y=\"-260.8\" font-family=\"Helvetica,sans-Serif\" font-size=\"14.00\">samples = 28</text>\r\n",
       "<text text-anchor=\"start\" x=\"1140.5\" y=\"-245.8\" font-family=\"Helvetica,sans-Serif\" font-size=\"14.00\">value = [0, 5, 23, 0, 0]</text>\r\n",
       "<text text-anchor=\"start\" x=\"1143\" y=\"-230.8\" font-family=\"Helvetica,sans-Serif\" font-size=\"14.00\">class = RG&#45;Decision</text>\r\n",
       "</g>\r\n",
       "<!-- 25&#45;&gt;27 -->\r\n",
       "<g id=\"edge27\" class=\"edge\"><title>25&#45;&gt;27</title>\r\n",
       "<path fill=\"none\" stroke=\"black\" d=\"M1081.15,-341.907C1097.64,-332.016 1115.39,-321.368 1132.24,-311.254\"/>\r\n",
       "<polygon fill=\"black\" stroke=\"black\" points=\"1134.19,-314.167 1140.97,-306.021 1130.59,-308.165 1134.19,-314.167\"/>\r\n",
       "</g>\r\n",
       "<!-- 28 -->\r\n",
       "<g id=\"node29\" class=\"node\"><title>28</title>\r\n",
       "<path fill=\"#7be539\" fill-opacity=\"0.498039\" stroke=\"black\" d=\"M1288.5,-187C1288.5,-187 1128.5,-187 1128.5,-187 1122.5,-187 1116.5,-181 1116.5,-175 1116.5,-175 1116.5,-116 1116.5,-116 1116.5,-110 1122.5,-104 1128.5,-104 1128.5,-104 1288.5,-104 1288.5,-104 1294.5,-104 1300.5,-110 1300.5,-116 1300.5,-116 1300.5,-175 1300.5,-175 1300.5,-181 1294.5,-187 1288.5,-187\"/>\r\n",
       "<text text-anchor=\"start\" x=\"1124.5\" y=\"-171.8\" font-family=\"Helvetica,sans-Serif\" font-size=\"14.00\">Away Team Goals ≤ 0.214</text>\r\n",
       "<text text-anchor=\"start\" x=\"1171\" y=\"-156.8\" font-family=\"Helvetica,sans-Serif\" font-size=\"14.00\">gini = 0.444</text>\r\n",
       "<text text-anchor=\"start\" x=\"1169\" y=\"-141.8\" font-family=\"Helvetica,sans-Serif\" font-size=\"14.00\">samples = 6</text>\r\n",
       "<text text-anchor=\"start\" x=\"1144.5\" y=\"-126.8\" font-family=\"Helvetica,sans-Serif\" font-size=\"14.00\">value = [0, 4, 2, 0, 0]</text>\r\n",
       "<text text-anchor=\"start\" x=\"1144.5\" y=\"-111.8\" font-family=\"Helvetica,sans-Serif\" font-size=\"14.00\">class = HT&#45;Decision</text>\r\n",
       "</g>\r\n",
       "<!-- 27&#45;&gt;28 -->\r\n",
       "<g id=\"edge28\" class=\"edge\"><title>27&#45;&gt;28</title>\r\n",
       "<path fill=\"none\" stroke=\"black\" d=\"M1208.5,-222.907C1208.5,-214.649 1208.5,-205.864 1208.5,-197.302\"/>\r\n",
       "<polygon fill=\"black\" stroke=\"black\" points=\"1212,-197.021 1208.5,-187.021 1205,-197.021 1212,-197.021\"/>\r\n",
       "</g>\r\n",
       "<!-- 31 -->\r\n",
       "<g id=\"node32\" class=\"node\"><title>31</title>\r\n",
       "<path fill=\"#39e5c5\" fill-opacity=\"0.952941\" stroke=\"black\" d=\"M1493.5,-187C1493.5,-187 1333.5,-187 1333.5,-187 1327.5,-187 1321.5,-181 1321.5,-175 1321.5,-175 1321.5,-116 1321.5,-116 1321.5,-110 1327.5,-104 1333.5,-104 1333.5,-104 1493.5,-104 1493.5,-104 1499.5,-104 1505.5,-110 1505.5,-116 1505.5,-116 1505.5,-175 1505.5,-175 1505.5,-181 1499.5,-187 1493.5,-187\"/>\r\n",
       "<text text-anchor=\"start\" x=\"1329.5\" y=\"-171.8\" font-family=\"Helvetica,sans-Serif\" font-size=\"14.00\">Away Team Goals ≤ 0.071</text>\r\n",
       "<text text-anchor=\"start\" x=\"1376\" y=\"-156.8\" font-family=\"Helvetica,sans-Serif\" font-size=\"14.00\">gini = 0.087</text>\r\n",
       "<text text-anchor=\"start\" x=\"1370\" y=\"-141.8\" font-family=\"Helvetica,sans-Serif\" font-size=\"14.00\">samples = 22</text>\r\n",
       "<text text-anchor=\"start\" x=\"1345.5\" y=\"-126.8\" font-family=\"Helvetica,sans-Serif\" font-size=\"14.00\">value = [0, 1, 21, 0, 0]</text>\r\n",
       "<text text-anchor=\"start\" x=\"1348\" y=\"-111.8\" font-family=\"Helvetica,sans-Serif\" font-size=\"14.00\">class = RG&#45;Decision</text>\r\n",
       "</g>\r\n",
       "<!-- 27&#45;&gt;31 -->\r\n",
       "<g id=\"edge31\" class=\"edge\"><title>27&#45;&gt;31</title>\r\n",
       "<path fill=\"none\" stroke=\"black\" d=\"M1279.62,-222.907C1296.96,-213.016 1315.61,-202.368 1333.33,-192.254\"/>\r\n",
       "<polygon fill=\"black\" stroke=\"black\" points=\"1335.55,-195.017 1342.5,-187.021 1332.08,-188.938 1335.55,-195.017\"/>\r\n",
       "</g>\r\n",
       "<!-- 29 -->\r\n",
       "<g id=\"node30\" class=\"node\"><title>29</title>\r\n",
       "<path fill=\"#7be539\" stroke=\"black\" d=\"M1144.5,-68C1144.5,-68 1024.5,-68 1024.5,-68 1018.5,-68 1012.5,-62 1012.5,-56 1012.5,-56 1012.5,-12 1012.5,-12 1012.5,-6 1018.5,-0 1024.5,-0 1024.5,-0 1144.5,-0 1144.5,-0 1150.5,-0 1156.5,-6 1156.5,-12 1156.5,-12 1156.5,-56 1156.5,-56 1156.5,-62 1150.5,-68 1144.5,-68\"/>\r\n",
       "<text text-anchor=\"start\" x=\"1055.5\" y=\"-52.8\" font-family=\"Helvetica,sans-Serif\" font-size=\"14.00\">gini = 0.0</text>\r\n",
       "<text text-anchor=\"start\" x=\"1045\" y=\"-37.8\" font-family=\"Helvetica,sans-Serif\" font-size=\"14.00\">samples = 4</text>\r\n",
       "<text text-anchor=\"start\" x=\"1020.5\" y=\"-22.8\" font-family=\"Helvetica,sans-Serif\" font-size=\"14.00\">value = [0, 4, 0, 0, 0]</text>\r\n",
       "<text text-anchor=\"start\" x=\"1020.5\" y=\"-7.8\" font-family=\"Helvetica,sans-Serif\" font-size=\"14.00\">class = HT&#45;Decision</text>\r\n",
       "</g>\r\n",
       "<!-- 28&#45;&gt;29 -->\r\n",
       "<g id=\"edge29\" class=\"edge\"><title>28&#45;&gt;29</title>\r\n",
       "<path fill=\"none\" stroke=\"black\" d=\"M1162.33,-103.726C1151.69,-94.3318 1140.38,-84.349 1129.78,-74.9883\"/>\r\n",
       "<polygon fill=\"black\" stroke=\"black\" points=\"1132.02,-72.2953 1122.21,-68.2996 1127.39,-77.5424 1132.02,-72.2953\"/>\r\n",
       "</g>\r\n",
       "<!-- 30 -->\r\n",
       "<g id=\"node31\" class=\"node\"><title>30</title>\r\n",
       "<path fill=\"#39e5c5\" stroke=\"black\" d=\"M1310,-68C1310,-68 1187,-68 1187,-68 1181,-68 1175,-62 1175,-56 1175,-56 1175,-12 1175,-12 1175,-6 1181,-0 1187,-0 1187,-0 1310,-0 1310,-0 1316,-0 1322,-6 1322,-12 1322,-12 1322,-56 1322,-56 1322,-62 1316,-68 1310,-68\"/>\r\n",
       "<text text-anchor=\"start\" x=\"1219.5\" y=\"-52.8\" font-family=\"Helvetica,sans-Serif\" font-size=\"14.00\">gini = 0.0</text>\r\n",
       "<text text-anchor=\"start\" x=\"1209\" y=\"-37.8\" font-family=\"Helvetica,sans-Serif\" font-size=\"14.00\">samples = 2</text>\r\n",
       "<text text-anchor=\"start\" x=\"1184.5\" y=\"-22.8\" font-family=\"Helvetica,sans-Serif\" font-size=\"14.00\">value = [0, 0, 2, 0, 0]</text>\r\n",
       "<text text-anchor=\"start\" x=\"1183\" y=\"-7.8\" font-family=\"Helvetica,sans-Serif\" font-size=\"14.00\">class = RG&#45;Decision</text>\r\n",
       "</g>\r\n",
       "<!-- 28&#45;&gt;30 -->\r\n",
       "<g id=\"edge30\" class=\"edge\"><title>28&#45;&gt;30</title>\r\n",
       "<path fill=\"none\" stroke=\"black\" d=\"M1223.39,-103.726C1226.49,-95.2439 1229.77,-86.2819 1232.89,-77.7312\"/>\r\n",
       "<polygon fill=\"black\" stroke=\"black\" points=\"1236.19,-78.8935 1236.34,-68.2996 1229.62,-76.4916 1236.19,-78.8935\"/>\r\n",
       "</g>\r\n",
       "<!-- 32 -->\r\n",
       "<g id=\"node33\" class=\"node\"><title>32</title>\r\n",
       "<path fill=\"#39e5c5\" fill-opacity=\"0.874510\" stroke=\"black\" d=\"M1475,-68C1475,-68 1352,-68 1352,-68 1346,-68 1340,-62 1340,-56 1340,-56 1340,-12 1340,-12 1340,-6 1346,-0 1352,-0 1352,-0 1475,-0 1475,-0 1481,-0 1487,-6 1487,-12 1487,-12 1487,-56 1487,-56 1487,-62 1481,-68 1475,-68\"/>\r\n",
       "<text text-anchor=\"start\" x=\"1376\" y=\"-52.8\" font-family=\"Helvetica,sans-Serif\" font-size=\"14.00\">gini = 0.198</text>\r\n",
       "<text text-anchor=\"start\" x=\"1374\" y=\"-37.8\" font-family=\"Helvetica,sans-Serif\" font-size=\"14.00\">samples = 9</text>\r\n",
       "<text text-anchor=\"start\" x=\"1349.5\" y=\"-22.8\" font-family=\"Helvetica,sans-Serif\" font-size=\"14.00\">value = [0, 1, 8, 0, 0]</text>\r\n",
       "<text text-anchor=\"start\" x=\"1348\" y=\"-7.8\" font-family=\"Helvetica,sans-Serif\" font-size=\"14.00\">class = RG&#45;Decision</text>\r\n",
       "</g>\r\n",
       "<!-- 31&#45;&gt;32 -->\r\n",
       "<g id=\"edge32\" class=\"edge\"><title>31&#45;&gt;32</title>\r\n",
       "<path fill=\"none\" stroke=\"black\" d=\"M1413.5,-103.726C1413.5,-95.5175 1413.5,-86.8595 1413.5,-78.56\"/>\r\n",
       "<polygon fill=\"black\" stroke=\"black\" points=\"1417,-78.2996 1413.5,-68.2996 1410,-78.2996 1417,-78.2996\"/>\r\n",
       "</g>\r\n",
       "<!-- 33 -->\r\n",
       "<g id=\"node34\" class=\"node\"><title>33</title>\r\n",
       "<path fill=\"#39e5c5\" stroke=\"black\" d=\"M1645.5,-68C1645.5,-68 1517.5,-68 1517.5,-68 1511.5,-68 1505.5,-62 1505.5,-56 1505.5,-56 1505.5,-12 1505.5,-12 1505.5,-6 1511.5,-0 1517.5,-0 1517.5,-0 1645.5,-0 1645.5,-0 1651.5,-0 1657.5,-6 1657.5,-12 1657.5,-12 1657.5,-56 1657.5,-56 1657.5,-62 1651.5,-68 1645.5,-68\"/>\r\n",
       "<text text-anchor=\"start\" x=\"1552.5\" y=\"-52.8\" font-family=\"Helvetica,sans-Serif\" font-size=\"14.00\">gini = 0.0</text>\r\n",
       "<text text-anchor=\"start\" x=\"1538\" y=\"-37.8\" font-family=\"Helvetica,sans-Serif\" font-size=\"14.00\">samples = 13</text>\r\n",
       "<text text-anchor=\"start\" x=\"1513.5\" y=\"-22.8\" font-family=\"Helvetica,sans-Serif\" font-size=\"14.00\">value = [0, 0, 13, 0, 0]</text>\r\n",
       "<text text-anchor=\"start\" x=\"1516\" y=\"-7.8\" font-family=\"Helvetica,sans-Serif\" font-size=\"14.00\">class = RG&#45;Decision</text>\r\n",
       "</g>\r\n",
       "<!-- 31&#45;&gt;33 -->\r\n",
       "<g id=\"edge33\" class=\"edge\"><title>31&#45;&gt;33</title>\r\n",
       "<path fill=\"none\" stroke=\"black\" d=\"M1476.06,-103.726C1491.11,-93.9161 1507.14,-83.4644 1522.05,-73.7496\"/>\r\n",
       "<polygon fill=\"black\" stroke=\"black\" points=\"1524.21,-76.5178 1530.68,-68.1252 1520.39,-70.6535 1524.21,-76.5178\"/>\r\n",
       "</g>\r\n",
       "<!-- 35 -->\r\n",
       "<g id=\"node36\" class=\"node\"><title>35</title>\r\n",
       "<path fill=\"#3c39e5\" stroke=\"black\" d=\"M877.5,-655.5C877.5,-655.5 749.5,-655.5 749.5,-655.5 743.5,-655.5 737.5,-649.5 737.5,-643.5 737.5,-643.5 737.5,-599.5 737.5,-599.5 737.5,-593.5 743.5,-587.5 749.5,-587.5 749.5,-587.5 877.5,-587.5 877.5,-587.5 883.5,-587.5 889.5,-593.5 889.5,-599.5 889.5,-599.5 889.5,-643.5 889.5,-643.5 889.5,-649.5 883.5,-655.5 877.5,-655.5\"/>\r\n",
       "<text text-anchor=\"start\" x=\"784.5\" y=\"-640.3\" font-family=\"Helvetica,sans-Serif\" font-size=\"14.00\">gini = 0.0</text>\r\n",
       "<text text-anchor=\"start\" x=\"770\" y=\"-625.3\" font-family=\"Helvetica,sans-Serif\" font-size=\"14.00\">samples = 15</text>\r\n",
       "<text text-anchor=\"start\" x=\"745.5\" y=\"-610.3\" font-family=\"Helvetica,sans-Serif\" font-size=\"14.00\">value = [0, 0, 0, 15, 0]</text>\r\n",
       "<text text-anchor=\"start\" x=\"754.5\" y=\"-595.3\" font-family=\"Helvetica,sans-Serif\" font-size=\"14.00\">class = Extra Time</text>\r\n",
       "</g>\r\n",
       "<!-- 34&#45;&gt;35 -->\r\n",
       "<g id=\"edge35\" class=\"edge\"><title>34&#45;&gt;35</title>\r\n",
       "<path fill=\"none\" stroke=\"black\" d=\"M813.5,-698.907C813.5,-688.204 813.5,-676.615 813.5,-665.776\"/>\r\n",
       "<polygon fill=\"black\" stroke=\"black\" points=\"817,-665.667 813.5,-655.667 810,-665.667 817,-665.667\"/>\r\n",
       "</g>\r\n",
       "<!-- 36 -->\r\n",
       "<g id=\"node37\" class=\"node\"><title>36</title>\r\n",
       "<path fill=\"#e539c0\" stroke=\"black\" d=\"M1047.5,-655.5C1047.5,-655.5 919.5,-655.5 919.5,-655.5 913.5,-655.5 907.5,-649.5 907.5,-643.5 907.5,-643.5 907.5,-599.5 907.5,-599.5 907.5,-593.5 913.5,-587.5 919.5,-587.5 919.5,-587.5 1047.5,-587.5 1047.5,-587.5 1053.5,-587.5 1059.5,-593.5 1059.5,-599.5 1059.5,-599.5 1059.5,-643.5 1059.5,-643.5 1059.5,-649.5 1053.5,-655.5 1047.5,-655.5\"/>\r\n",
       "<text text-anchor=\"start\" x=\"954.5\" y=\"-640.3\" font-family=\"Helvetica,sans-Serif\" font-size=\"14.00\">gini = 0.0</text>\r\n",
       "<text text-anchor=\"start\" x=\"940\" y=\"-625.3\" font-family=\"Helvetica,sans-Serif\" font-size=\"14.00\">samples = 17</text>\r\n",
       "<text text-anchor=\"start\" x=\"915.5\" y=\"-610.3\" font-family=\"Helvetica,sans-Serif\" font-size=\"14.00\">value = [0, 0, 0, 0, 17]</text>\r\n",
       "<text text-anchor=\"start\" x=\"935.5\" y=\"-595.3\" font-family=\"Helvetica,sans-Serif\" font-size=\"14.00\">class = Penalty</text>\r\n",
       "</g>\r\n",
       "<!-- 34&#45;&gt;36 -->\r\n",
       "<g id=\"edge36\" class=\"edge\"><title>34&#45;&gt;36</title>\r\n",
       "<path fill=\"none\" stroke=\"black\" d=\"M872.481,-698.907C890.117,-686.769 909.407,-673.493 926.888,-661.462\"/>\r\n",
       "<polygon fill=\"black\" stroke=\"black\" points=\"929.055,-664.22 935.309,-655.667 925.087,-658.453 929.055,-664.22\"/>\r\n",
       "</g>\r\n",
       "</g>\r\n",
       "</svg>\r\n"
      ],
      "text/plain": [
       "<graphviz.files.Source at 0x2880341b160>"
      ]
     },
     "execution_count": 28,
     "metadata": {},
     "output_type": "execute_result"
    }
   ],
   "source": [
    "import graphviz \n",
    "dot_data = tree.export_graphviz(clf, out_file=None, \n",
    "                         feature_names=[\"WorldCupStage\", \"Home Team Goals\", \"Half-time Home Goals\", \"Away Team Goals\", \"Half-time Away Goals\", \"ExtraTime\", \"Penalty\"],  \n",
    "                         class_names=[\"Tie\", \"HT-Decision\", \"RG-Decision\", \"Extra Time\", \"Penalty\"],  \n",
    "                         filled=True, rounded=True,  \n",
    "                         special_characters=True) \n",
    "\n",
    "graph = graphviz.Source(dot_data)  \n",
    "graph"
   ]
  },
  {
   "cell_type": "markdown",
   "metadata": {},
   "source": [
    "## Ergebnis des Decision Tree: \n",
    "* Knapp 440 Datensätze\n",
    "* Insgesamt 7 Features (Merkmale des Datensatzes)\n",
    "    * Home Team Goals\n",
    "    * Away Team Goals\n",
    "    * Half Time Home Goals\n",
    "    * Half Time Away Goals\n",
    "    * Entra Time?\n",
    "    * Penalty?\n",
    "* Trainings Accuracy: 98,5%\n",
    "* Test Accuracy: 98,6%\n",
    "* Base Accuracy: 69,2% (Base = 2. Halbzeit entscheidend)"
   ]
  },
  {
   "cell_type": "markdown",
   "metadata": {},
   "source": [
    "# Erfolgsquote von Strafstößen"
   ]
  },
  {
   "cell_type": "code",
   "execution_count": 29,
   "metadata": {
    "scrolled": true
   },
   "outputs": [],
   "source": [
    "df_penalties_success_rate = df_events[(df_events.EventType.str.contains(\"P\") == True)]"
   ]
  },
  {
   "cell_type": "code",
   "execution_count": 30,
   "metadata": {},
   "outputs": [],
   "source": [
    "f = {\n",
    "     'EventType':'count'\n",
    "    }\n",
    "\n",
    "df_penalties_success_rate = df_penalties_success_rate[[\"EventType\"]].groupby([\"EventType\"]).agg(f)"
   ]
  },
  {
   "cell_type": "code",
   "execution_count": 31,
   "metadata": {},
   "outputs": [
    {
     "data": {
      "text/html": [
       "<div>\n",
       "<style scoped>\n",
       "    .dataframe tbody tr th:only-of-type {\n",
       "        vertical-align: middle;\n",
       "    }\n",
       "\n",
       "    .dataframe tbody tr th {\n",
       "        vertical-align: top;\n",
       "    }\n",
       "\n",
       "    .dataframe thead th {\n",
       "        text-align: right;\n",
       "    }\n",
       "</style>\n",
       "<table border=\"1\" class=\"dataframe\">\n",
       "  <thead>\n",
       "    <tr style=\"text-align: right;\">\n",
       "      <th></th>\n",
       "      <th>EventType</th>\n",
       "    </tr>\n",
       "    <tr>\n",
       "      <th>EventType</th>\n",
       "      <th></th>\n",
       "    </tr>\n",
       "  </thead>\n",
       "  <tbody>\n",
       "    <tr>\n",
       "      <th>MP</th>\n",
       "      <td>11</td>\n",
       "    </tr>\n",
       "    <tr>\n",
       "      <th>P</th>\n",
       "      <td>178</td>\n",
       "    </tr>\n",
       "  </tbody>\n",
       "</table>\n",
       "</div>"
      ],
      "text/plain": [
       "           EventType\n",
       "EventType           \n",
       "MP                11\n",
       "P                178"
      ]
     },
     "execution_count": 31,
     "metadata": {},
     "output_type": "execute_result"
    }
   ],
   "source": [
    "df_penalties_success_rate"
   ]
  },
  {
   "cell_type": "code",
   "execution_count": 32,
   "metadata": {},
   "outputs": [],
   "source": [
    "df_penalties_MP = df_penalties_success_rate.loc[\"MP\"]"
   ]
  },
  {
   "cell_type": "code",
   "execution_count": 33,
   "metadata": {},
   "outputs": [],
   "source": [
    "df_penalties_P = df_penalties_success_rate.loc[\"P\"]"
   ]
  },
  {
   "cell_type": "code",
   "execution_count": 34,
   "metadata": {},
   "outputs": [
    {
     "data": {
      "text/plain": [
       "EventType    11\n",
       "Name: MP, dtype: int64"
      ]
     },
     "execution_count": 34,
     "metadata": {},
     "output_type": "execute_result"
    }
   ],
   "source": [
    "df_penalties_MP"
   ]
  },
  {
   "cell_type": "code",
   "execution_count": 35,
   "metadata": {},
   "outputs": [
    {
     "data": {
      "text/plain": [
       "EventType    178\n",
       "Name: P, dtype: int64"
      ]
     },
     "execution_count": 35,
     "metadata": {},
     "output_type": "execute_result"
    }
   ],
   "source": [
    "df_penalties_P"
   ]
  },
  {
   "cell_type": "code",
   "execution_count": 36,
   "metadata": {},
   "outputs": [
    {
     "name": "stdout",
     "output_type": "stream",
     "text": [
      "EventType    0.061798\n",
      "Name: P, dtype: float64\n"
     ]
    }
   ],
   "source": [
    "df_penalty_quote = print(float(df_penalties_MP) / df_penalties_P)\n"
   ]
  },
  {
   "cell_type": "markdown",
   "metadata": {},
   "source": [
    "## Antwort: Nur 6,17 % der Strafstöße werden verschossen"
   ]
  },
  {
   "cell_type": "markdown",
   "metadata": {},
   "source": [
    "# General information about Football World Cups"
   ]
  },
  {
   "cell_type": "code",
   "execution_count": 37,
   "metadata": {},
   "outputs": [
    {
     "data": {
      "image/png": "[encoded data removed]",
      "text/plain": [
       "<Figure size 1008x504 with 1 Axes>"
      ]
     },
     "metadata": {},
     "output_type": "display_data"
    }
   ],
   "source": [
    "df_cups.set_index('Year').plot(kind='bar', title=\"General World Cup Information\", figsize=(14,7), legend=True, fontsize=12)\n",
    "plt.show()"
   ]
  },
  {
   "cell_type": "markdown",
   "metadata": {},
   "source": [
    "# Attendance per World Cup"
   ]
  },
  {
   "cell_type": "code",
   "execution_count": 38,
   "metadata": {},
   "outputs": [
    {
     "name": "stderr",
     "output_type": "stream",
     "text": [
      "C:\\Users\\D064012\\AppData\\Local\\Continuum\\anaconda3\\lib\\site-packages\\ipykernel_launcher.py:3: SettingWithCopyWarning: \n",
      "A value is trying to be set on a copy of a slice from a DataFrame.\n",
      "Try using .loc[row_indexer,col_indexer] = value instead\n",
      "\n",
      "See the caveats in the documentation: http://pandas.pydata.org/pandas-docs/stable/indexing.html#indexing-view-versus-copy\n",
      "  This is separate from the ipykernel package so we can avoid doing imports until\n",
      "C:\\Users\\D064012\\AppData\\Local\\Continuum\\anaconda3\\lib\\site-packages\\ipykernel_launcher.py:4: SettingWithCopyWarning: \n",
      "A value is trying to be set on a copy of a slice from a DataFrame.\n",
      "Try using .loc[row_indexer,col_indexer] = value instead\n",
      "\n",
      "See the caveats in the documentation: http://pandas.pydata.org/pandas-docs/stable/indexing.html#indexing-view-versus-copy\n",
      "  after removing the cwd from sys.path.\n"
     ]
    },
    {
     "data": {
      "text/plain": [
       "Year            int64\n",
       "Attendance    float64\n",
       "dtype: object"
      ]
     },
     "execution_count": 38,
     "metadata": {},
     "output_type": "execute_result"
    }
   ],
   "source": [
    "# Data preparation\n",
    "df_cups_attendance = df_cups[[\"Year\", \"Attendance\"]]\n",
    "df_cups_attendance['Attendance'] = df_cups_attendance['Attendance'].str.replace('.', '')\n",
    "df_cups_attendance['Attendance'] = df_cups_attendance.Attendance.astype(float)\n",
    "df_cups_attendance.dtypes"
   ]
  },
  {
   "cell_type": "markdown",
   "metadata": {},
   "source": [
    "## Total Attendance per World Cup"
   ]
  },
  {
   "cell_type": "code",
   "execution_count": 39,
   "metadata": {},
   "outputs": [
    {
     "data": {
      "text/plain": [
       "<Figure size 864x432 with 0 Axes>"
      ]
     },
     "metadata": {},
     "output_type": "display_data"
    },
    {
     "data": {
      "image/png": "[encoded data removed]",
      "text/plain": [
       "<Figure size 1008x504 with 1 Axes>"
      ]
     },
     "metadata": {},
     "output_type": "display_data"
    }
   ],
   "source": [
    "plt.figure(figsize=(12,6))\n",
    "df_cups_attendance.set_index(\"Year\").plot(style=\"o-\", title=\"Attendance per World Cup\", figsize=(14,7), legend=True, fontsize=12)\n",
    "plt.grid()\n",
    "plt.show()"
   ]
  },
  {
   "cell_type": "markdown",
   "metadata": {},
   "source": [
    "## Average Attendance per World Cup"
   ]
  },
  {
   "cell_type": "code",
   "execution_count": 40,
   "metadata": {},
   "outputs": [
    {
     "data": {
      "image/png": "[encoded data removed]",
      "text/plain": [
       "<Figure size 1008x504 with 1 Axes>"
      ]
     },
     "metadata": {},
     "output_type": "display_data"
    }
   ],
   "source": [
    "df_avg_attendance = df_matches.groupby(\"Year\")[\"Attendance\"].mean().reset_index()\n",
    "df_avg_attendance[\"Year\"] = df_avg_attendance[\"Year\"].astype(int)\n",
    "df_avg_attendance.set_index(\"Year\").plot(kind='bar', color=\"b\", title=\"Average attendance by year\", figsize=(14,7), legend=True, fontsize=12)\n",
    "plt.show()"
   ]
  },
  {
   "cell_type": "markdown",
   "metadata": {},
   "source": [
    "# Player with the most goals across all World Cups"
   ]
  },
  {
   "cell_type": "code",
   "execution_count": 41,
   "metadata": {},
   "outputs": [],
   "source": [
    "# https://www.weltfussball.de/ewige_torjaeger/wm/tore/1/\n",
    "# data consistency not sufficient for this calculation as player names are not unique"
   ]
  },
  {
   "cell_type": "code",
   "execution_count": 42,
   "metadata": {},
   "outputs": [
    {
     "data": {
      "text/html": [
       "<div>\n",
       "<style scoped>\n",
       "    .dataframe tbody tr th:only-of-type {\n",
       "        vertical-align: middle;\n",
       "    }\n",
       "\n",
       "    .dataframe tbody tr th {\n",
       "        vertical-align: top;\n",
       "    }\n",
       "\n",
       "    .dataframe thead th {\n",
       "        text-align: right;\n",
       "    }\n",
       "</style>\n",
       "<table border=\"1\" class=\"dataframe\">\n",
       "  <thead>\n",
       "    <tr style=\"text-align: right;\">\n",
       "      <th></th>\n",
       "      <th>Player Name</th>\n",
       "      <th>EventType</th>\n",
       "    </tr>\n",
       "  </thead>\n",
       "  <tbody>\n",
       "    <tr>\n",
       "      <th>2</th>\n",
       "      <td>Marcel LANGILLER</td>\n",
       "      <td>G</td>\n",
       "    </tr>\n",
       "    <tr>\n",
       "      <th>3</th>\n",
       "      <td>Juan CARRENO</td>\n",
       "      <td>G</td>\n",
       "    </tr>\n",
       "    <tr>\n",
       "      <th>6</th>\n",
       "      <td>Andre MASCHINOT</td>\n",
       "      <td>G</td>\n",
       "    </tr>\n",
       "    <tr>\n",
       "      <th>7</th>\n",
       "      <td>Andre MASCHINOT</td>\n",
       "      <td>G</td>\n",
       "    </tr>\n",
       "    <tr>\n",
       "      <th>15</th>\n",
       "      <td>Lucien LAURENT</td>\n",
       "      <td>G</td>\n",
       "    </tr>\n",
       "    <tr>\n",
       "      <th>36</th>\n",
       "      <td>Tom FLORIE</td>\n",
       "      <td>G</td>\n",
       "    </tr>\n",
       "    <tr>\n",
       "      <th>42</th>\n",
       "      <td>Bart McGHEE</td>\n",
       "      <td>G</td>\n",
       "    </tr>\n",
       "    <tr>\n",
       "      <th>46</th>\n",
       "      <td>Bert PATENAUDE</td>\n",
       "      <td>G</td>\n",
       "    </tr>\n",
       "    <tr>\n",
       "      <th>74</th>\n",
       "      <td>Ivica BEK</td>\n",
       "      <td>G</td>\n",
       "    </tr>\n",
       "    <tr>\n",
       "      <th>75</th>\n",
       "      <td>PREGUINHO</td>\n",
       "      <td>G</td>\n",
       "    </tr>\n",
       "    <tr>\n",
       "      <th>82</th>\n",
       "      <td>Aleksandar TIRNANIC</td>\n",
       "      <td>G</td>\n",
       "    </tr>\n",
       "    <tr>\n",
       "      <th>113</th>\n",
       "      <td>Adalbert DESU</td>\n",
       "      <td>G</td>\n",
       "    </tr>\n",
       "    <tr>\n",
       "      <th>117</th>\n",
       "      <td>Nicolae KOVACS</td>\n",
       "      <td>G</td>\n",
       "    </tr>\n",
       "    <tr>\n",
       "      <th>119</th>\n",
       "      <td>Constantin STANCIU</td>\n",
       "      <td>G</td>\n",
       "    </tr>\n",
       "    <tr>\n",
       "      <th>128</th>\n",
       "      <td>Luis SOUZA</td>\n",
       "      <td>G</td>\n",
       "    </tr>\n",
       "    <tr>\n",
       "      <th>163</th>\n",
       "      <td>Luis MONTI</td>\n",
       "      <td>G</td>\n",
       "    </tr>\n",
       "    <tr>\n",
       "      <th>199</th>\n",
       "      <td>Carlos VIDAL</td>\n",
       "      <td>G</td>\n",
       "    </tr>\n",
       "    <tr>\n",
       "      <th>200</th>\n",
       "      <td>Carlos VIDAL</td>\n",
       "      <td>G</td>\n",
       "    </tr>\n",
       "    <tr>\n",
       "      <th>222</th>\n",
       "      <td>Blagoje MARJANOVIC</td>\n",
       "      <td>G</td>\n",
       "    </tr>\n",
       "    <tr>\n",
       "      <th>230</th>\n",
       "      <td>Djordje VUJADINOVIC</td>\n",
       "      <td>G</td>\n",
       "    </tr>\n",
       "    <tr>\n",
       "      <th>236</th>\n",
       "      <td>Ivica BEK</td>\n",
       "      <td>G</td>\n",
       "    </tr>\n",
       "    <tr>\n",
       "      <th>237</th>\n",
       "      <td>Ivica BEK</td>\n",
       "      <td>G</td>\n",
       "    </tr>\n",
       "    <tr>\n",
       "      <th>267</th>\n",
       "      <td>Bert PATENAUDE</td>\n",
       "      <td>G</td>\n",
       "    </tr>\n",
       "    <tr>\n",
       "      <th>268</th>\n",
       "      <td>Bert PATENAUDE</td>\n",
       "      <td>G</td>\n",
       "    </tr>\n",
       "    <tr>\n",
       "      <th>269</th>\n",
       "      <td>Bert PATENAUDE</td>\n",
       "      <td>G</td>\n",
       "    </tr>\n",
       "    <tr>\n",
       "      <th>297</th>\n",
       "      <td>Hector CASTRO</td>\n",
       "      <td>G</td>\n",
       "    </tr>\n",
       "    <tr>\n",
       "      <th>348</th>\n",
       "      <td>Guillermo SUBIABRE</td>\n",
       "      <td>G</td>\n",
       "    </tr>\n",
       "    <tr>\n",
       "      <th>379</th>\n",
       "      <td>Francisco VARALLO</td>\n",
       "      <td>G</td>\n",
       "    </tr>\n",
       "    <tr>\n",
       "      <th>380</th>\n",
       "      <td>Roberto GAYON</td>\n",
       "      <td>G</td>\n",
       "    </tr>\n",
       "    <tr>\n",
       "      <th>389</th>\n",
       "      <td>Adolfo ZUMELZU</td>\n",
       "      <td>G</td>\n",
       "    </tr>\n",
       "    <tr>\n",
       "      <th>...</th>\n",
       "      <td>...</td>\n",
       "      <td>...</td>\n",
       "    </tr>\n",
       "    <tr>\n",
       "      <th>38508</th>\n",
       "      <td>KLOSE</td>\n",
       "      <td>G</td>\n",
       "    </tr>\n",
       "    <tr>\n",
       "      <th>38511</th>\n",
       "      <td>M�LLER</td>\n",
       "      <td>G</td>\n",
       "    </tr>\n",
       "    <tr>\n",
       "      <th>38515</th>\n",
       "      <td>KROOS</td>\n",
       "      <td>G</td>\n",
       "    </tr>\n",
       "    <tr>\n",
       "      <th>38516</th>\n",
       "      <td>KROOS</td>\n",
       "      <td>G</td>\n",
       "    </tr>\n",
       "    <tr>\n",
       "      <th>38529</th>\n",
       "      <td>SCH�RRLE</td>\n",
       "      <td>G</td>\n",
       "    </tr>\n",
       "    <tr>\n",
       "      <th>38530</th>\n",
       "      <td>SCH�RRLE</td>\n",
       "      <td>G</td>\n",
       "    </tr>\n",
       "    <tr>\n",
       "      <th>38554</th>\n",
       "      <td>BLIND</td>\n",
       "      <td>G</td>\n",
       "    </tr>\n",
       "    <tr>\n",
       "      <th>38567</th>\n",
       "      <td>WIJNALDUM</td>\n",
       "      <td>G</td>\n",
       "    </tr>\n",
       "    <tr>\n",
       "      <th>38602</th>\n",
       "      <td>BLIND</td>\n",
       "      <td>G</td>\n",
       "    </tr>\n",
       "    <tr>\n",
       "      <th>38615</th>\n",
       "      <td>WIJNALDUM</td>\n",
       "      <td>G</td>\n",
       "    </tr>\n",
       "    <tr>\n",
       "      <th>38682</th>\n",
       "      <td>G�TZE</td>\n",
       "      <td>G</td>\n",
       "    </tr>\n",
       "    <tr>\n",
       "      <th>38730</th>\n",
       "      <td>G�TZE</td>\n",
       "      <td>G</td>\n",
       "    </tr>\n",
       "    <tr>\n",
       "      <th>38939</th>\n",
       "      <td>HIGUAIN</td>\n",
       "      <td>G</td>\n",
       "    </tr>\n",
       "    <tr>\n",
       "      <th>38987</th>\n",
       "      <td>HIGUAIN</td>\n",
       "      <td>G</td>\n",
       "    </tr>\n",
       "    <tr>\n",
       "      <th>39037</th>\n",
       "      <td>SNEIJDER</td>\n",
       "      <td>G</td>\n",
       "    </tr>\n",
       "    <tr>\n",
       "      <th>39038</th>\n",
       "      <td>G. DOS SANTOS</td>\n",
       "      <td>G</td>\n",
       "    </tr>\n",
       "    <tr>\n",
       "      <th>39085</th>\n",
       "      <td>SNEIJDER</td>\n",
       "      <td>G</td>\n",
       "    </tr>\n",
       "    <tr>\n",
       "      <th>39086</th>\n",
       "      <td>G. DOS SANTOS</td>\n",
       "      <td>G</td>\n",
       "    </tr>\n",
       "    <tr>\n",
       "      <th>39137</th>\n",
       "      <td>RUIZ B.</td>\n",
       "      <td>G</td>\n",
       "    </tr>\n",
       "    <tr>\n",
       "      <th>39141</th>\n",
       "      <td>SOKRATIS</td>\n",
       "      <td>G</td>\n",
       "    </tr>\n",
       "    <tr>\n",
       "      <th>39188</th>\n",
       "      <td>RUIZ B.</td>\n",
       "      <td>G</td>\n",
       "    </tr>\n",
       "    <tr>\n",
       "      <th>39192</th>\n",
       "      <td>SOKRATIS</td>\n",
       "      <td>G</td>\n",
       "    </tr>\n",
       "    <tr>\n",
       "      <th>39232</th>\n",
       "      <td>DI MARIA</td>\n",
       "      <td>G</td>\n",
       "    </tr>\n",
       "    <tr>\n",
       "      <th>39282</th>\n",
       "      <td>DI MARIA</td>\n",
       "      <td>G</td>\n",
       "    </tr>\n",
       "    <tr>\n",
       "      <th>39333</th>\n",
       "      <td>DE BRUYNE</td>\n",
       "      <td>G</td>\n",
       "    </tr>\n",
       "    <tr>\n",
       "      <th>39352</th>\n",
       "      <td>LUKAKU</td>\n",
       "      <td>G</td>\n",
       "    </tr>\n",
       "    <tr>\n",
       "      <th>39364</th>\n",
       "      <td>GREEN</td>\n",
       "      <td>G</td>\n",
       "    </tr>\n",
       "    <tr>\n",
       "      <th>39381</th>\n",
       "      <td>DE BRUYNE</td>\n",
       "      <td>G</td>\n",
       "    </tr>\n",
       "    <tr>\n",
       "      <th>39400</th>\n",
       "      <td>LUKAKU</td>\n",
       "      <td>G</td>\n",
       "    </tr>\n",
       "    <tr>\n",
       "      <th>39412</th>\n",
       "      <td>GREEN</td>\n",
       "      <td>G</td>\n",
       "    </tr>\n",
       "  </tbody>\n",
       "</table>\n",
       "<p>2194 rows × 2 columns</p>\n",
       "</div>"
      ],
      "text/plain": [
       "               Player Name EventType\n",
       "2         Marcel LANGILLER         G\n",
       "3             Juan CARRENO         G\n",
       "6          Andre MASCHINOT         G\n",
       "7          Andre MASCHINOT         G\n",
       "15          Lucien LAURENT         G\n",
       "36              Tom FLORIE         G\n",
       "42             Bart McGHEE         G\n",
       "46          Bert PATENAUDE         G\n",
       "74               Ivica BEK         G\n",
       "75               PREGUINHO         G\n",
       "82     Aleksandar TIRNANIC         G\n",
       "113          Adalbert DESU         G\n",
       "117         Nicolae KOVACS         G\n",
       "119     Constantin STANCIU         G\n",
       "128             Luis SOUZA         G\n",
       "163             Luis MONTI         G\n",
       "199           Carlos VIDAL         G\n",
       "200           Carlos VIDAL         G\n",
       "222     Blagoje MARJANOVIC         G\n",
       "230    Djordje VUJADINOVIC         G\n",
       "236              Ivica BEK         G\n",
       "237              Ivica BEK         G\n",
       "267         Bert PATENAUDE         G\n",
       "268         Bert PATENAUDE         G\n",
       "269         Bert PATENAUDE         G\n",
       "297          Hector CASTRO         G\n",
       "348     Guillermo SUBIABRE         G\n",
       "379      Francisco VARALLO         G\n",
       "380          Roberto GAYON         G\n",
       "389         Adolfo ZUMELZU         G\n",
       "...                    ...       ...\n",
       "38508                KLOSE         G\n",
       "38511               M�LLER         G\n",
       "38515                KROOS         G\n",
       "38516                KROOS         G\n",
       "38529             SCH�RRLE         G\n",
       "38530             SCH�RRLE         G\n",
       "38554                BLIND         G\n",
       "38567            WIJNALDUM         G\n",
       "38602                BLIND         G\n",
       "38615            WIJNALDUM         G\n",
       "38682                G�TZE         G\n",
       "38730                G�TZE         G\n",
       "38939              HIGUAIN         G\n",
       "38987              HIGUAIN         G\n",
       "39037             SNEIJDER         G\n",
       "39038        G. DOS SANTOS         G\n",
       "39085             SNEIJDER         G\n",
       "39086        G. DOS SANTOS         G\n",
       "39137              RUIZ B.         G\n",
       "39141             SOKRATIS         G\n",
       "39188              RUIZ B.         G\n",
       "39192             SOKRATIS         G\n",
       "39232             DI MARIA         G\n",
       "39282             DI MARIA         G\n",
       "39333            DE BRUYNE         G\n",
       "39352               LUKAKU         G\n",
       "39364                GREEN         G\n",
       "39381            DE BRUYNE         G\n",
       "39400               LUKAKU         G\n",
       "39412                GREEN         G\n",
       "\n",
       "[2194 rows x 2 columns]"
      ]
     },
     "execution_count": 42,
     "metadata": {},
     "output_type": "execute_result"
    }
   ],
   "source": [
    "df_players_goals = df_events[[\"Player Name\", \"EventType\"]]\n",
    "df_players_goals = df_players_goals[df_players_goals.EventType.str.contains(\"G\") == True]\n",
    "df_players_goals = df_players_goals[df_players_goals.EventType.str.contains(\"P\") == False]\n",
    "df_players_goals = df_players_goals[df_players_goals.EventType.str.contains(\"I\") == False]\n",
    "df_players_goals = df_players_goals[df_players_goals.EventType.str.contains(\"Y\") == False]\n",
    "df_players_goals = df_players_goals[df_players_goals.EventType.str.contains(\"R\") == False]\n",
    "df_players_goals = df_players_goals[df_players_goals.EventType.str.contains(\"O\") == False]\n",
    "\n",
    "df_players_goals.groupby([\"Player Name\"])\n",
    "df_players_goals.dropna()"
   ]
  },
  {
   "cell_type": "markdown",
   "metadata": {},
   "source": [
    "## List of top scoring players"
   ]
  },
  {
   "cell_type": "code",
   "execution_count": 43,
   "metadata": {},
   "outputs": [
    {
     "data": {
      "image/png": "[encoded data removed]",
      "text/plain": [
       "<Figure size 1008x504 with 1 Axes>"
      ]
     },
     "metadata": {},
     "output_type": "display_data"
    }
   ],
   "source": [
    "f = {\n",
    "     'EventType':'count'\n",
    "    }\n",
    "\n",
    "df_test = df_players_goals.groupby(['Player Name']).agg(f)\n",
    "df_test['EventType'].sort_values(ascending=False)\n",
    "df_top_players = df_players_goals.groupby(['Player Name']).agg(f)\n",
    "df_top_players['EventType'].sort_values(ascending=False)\n",
    "df_top14_players = df_top_players[df_test.EventType > 8]\n",
    "df_top14_players['EventType'].sort_values(ascending=False).plot(kind='bar', title=\"Total goals of players\", figsize=(14,7), legend=False, fontsize=12)\n",
    "plt.show()"
   ]
  },
  {
   "cell_type": "markdown",
   "metadata": {},
   "source": [
    "# Fun with Penalty data\n",
    "\n",
    "The used dataset covers only penalty shoot-outs after regular time. Penalty shoot-outs were introduced in 1972."
   ]
  },
  {
   "cell_type": "code",
   "execution_count": 44,
   "metadata": {},
   "outputs": [],
   "source": [
    "# data preparation\n",
    "df_penalties[\"Match Result\"] = df_penalties[\"Match Result\"].str.replace(\"\",\"-\")\n",
    "df_penalties[\"Final Result\"] = df_penalties[\"Final Result\"].str.replace(\"\",\"-\")\n",
    "\n",
    "df_penalties[\"Winner Penalty Goals\"] = df_penalties[\"Final Result\"].str.split(\"-\").str[0]\n",
    "df_penalties[\"Loser Penalty Goals\"]  = df_penalties[\"Final Result\"].str.split(\"-\").str[1]"
   ]
  },
  {
   "cell_type": "markdown",
   "metadata": {},
   "source": [
    "## Penalty overview"
   ]
  },
  {
   "cell_type": "code",
   "execution_count": 45,
   "metadata": {},
   "outputs": [
    {
     "data": {
      "text/html": [
       "<div>\n",
       "<style scoped>\n",
       "    .dataframe tbody tr th:only-of-type {\n",
       "        vertical-align: middle;\n",
       "    }\n",
       "\n",
       "    .dataframe tbody tr th {\n",
       "        vertical-align: top;\n",
       "    }\n",
       "\n",
       "    .dataframe thead th {\n",
       "        text-align: right;\n",
       "    }\n",
       "</style>\n",
       "<table border=\"1\" class=\"dataframe\">\n",
       "  <thead>\n",
       "    <tr style=\"text-align: right;\">\n",
       "      <th></th>\n",
       "      <th>Winner</th>\n",
       "      <th>Match Result</th>\n",
       "      <th>Loser</th>\n",
       "      <th>Year</th>\n",
       "      <th>Final Result</th>\n",
       "      <th>Round</th>\n",
       "      <th>Winner Penalty Goals</th>\n",
       "      <th>Loser Penalty Goals</th>\n",
       "    </tr>\n",
       "  </thead>\n",
       "  <tbody>\n",
       "    <tr>\n",
       "      <th>0</th>\n",
       "      <td>Germany</td>\n",
       "      <td>3-3</td>\n",
       "      <td>France</td>\n",
       "      <td>1982</td>\n",
       "      <td>5-4</td>\n",
       "      <td>Semi-finals</td>\n",
       "      <td>5</td>\n",
       "      <td>4</td>\n",
       "    </tr>\n",
       "    <tr>\n",
       "      <th>1</th>\n",
       "      <td>France</td>\n",
       "      <td>1-1</td>\n",
       "      <td>Brazil</td>\n",
       "      <td>1986</td>\n",
       "      <td>4-3</td>\n",
       "      <td>Quarter-finals</td>\n",
       "      <td>4</td>\n",
       "      <td>3</td>\n",
       "    </tr>\n",
       "    <tr>\n",
       "      <th>2</th>\n",
       "      <td>Germany</td>\n",
       "      <td>0-0</td>\n",
       "      <td>Mexico</td>\n",
       "      <td>1986</td>\n",
       "      <td>4-1</td>\n",
       "      <td>Quarter-finals</td>\n",
       "      <td>4</td>\n",
       "      <td>1</td>\n",
       "    </tr>\n",
       "    <tr>\n",
       "      <th>3</th>\n",
       "      <td>Belgium</td>\n",
       "      <td>1-1</td>\n",
       "      <td>Spain</td>\n",
       "      <td>1986</td>\n",
       "      <td>5-4</td>\n",
       "      <td>Quarter-finals</td>\n",
       "      <td>5</td>\n",
       "      <td>4</td>\n",
       "    </tr>\n",
       "    <tr>\n",
       "      <th>4</th>\n",
       "      <td>Republic of Ireland</td>\n",
       "      <td>0-0</td>\n",
       "      <td>Romania</td>\n",
       "      <td>1990</td>\n",
       "      <td>5-4</td>\n",
       "      <td>Second round</td>\n",
       "      <td>5</td>\n",
       "      <td>4</td>\n",
       "    </tr>\n",
       "    <tr>\n",
       "      <th>5</th>\n",
       "      <td>Argentina</td>\n",
       "      <td>0-0</td>\n",
       "      <td>Yugoslavia</td>\n",
       "      <td>1990</td>\n",
       "      <td>3-2</td>\n",
       "      <td>Quarter-finals</td>\n",
       "      <td>3</td>\n",
       "      <td>2</td>\n",
       "    </tr>\n",
       "    <tr>\n",
       "      <th>6</th>\n",
       "      <td>Argentina</td>\n",
       "      <td>1-1</td>\n",
       "      <td>Italy</td>\n",
       "      <td>1990</td>\n",
       "      <td>4-3</td>\n",
       "      <td>Semi-finals</td>\n",
       "      <td>4</td>\n",
       "      <td>3</td>\n",
       "    </tr>\n",
       "    <tr>\n",
       "      <th>7</th>\n",
       "      <td>Germany</td>\n",
       "      <td>1-1</td>\n",
       "      <td>England</td>\n",
       "      <td>1990</td>\n",
       "      <td>4-3</td>\n",
       "      <td>Semi-finals</td>\n",
       "      <td>4</td>\n",
       "      <td>3</td>\n",
       "    </tr>\n",
       "    <tr>\n",
       "      <th>8</th>\n",
       "      <td>Bulgaria</td>\n",
       "      <td>1-1</td>\n",
       "      <td>Mexico</td>\n",
       "      <td>1994</td>\n",
       "      <td>3-1</td>\n",
       "      <td>Second round</td>\n",
       "      <td>3</td>\n",
       "      <td>1</td>\n",
       "    </tr>\n",
       "    <tr>\n",
       "      <th>9</th>\n",
       "      <td>Sweden</td>\n",
       "      <td>2-2</td>\n",
       "      <td>Romania</td>\n",
       "      <td>1994</td>\n",
       "      <td>5-4</td>\n",
       "      <td>Quarter-finals</td>\n",
       "      <td>5</td>\n",
       "      <td>4</td>\n",
       "    </tr>\n",
       "    <tr>\n",
       "      <th>10</th>\n",
       "      <td>Brazil</td>\n",
       "      <td>0-0</td>\n",
       "      <td>Italy</td>\n",
       "      <td>1994</td>\n",
       "      <td>3-2</td>\n",
       "      <td>Final</td>\n",
       "      <td>3</td>\n",
       "      <td>2</td>\n",
       "    </tr>\n",
       "    <tr>\n",
       "      <th>11</th>\n",
       "      <td>Argentina</td>\n",
       "      <td>2-2</td>\n",
       "      <td>England</td>\n",
       "      <td>1998</td>\n",
       "      <td>4-3</td>\n",
       "      <td>Second round</td>\n",
       "      <td>4</td>\n",
       "      <td>3</td>\n",
       "    </tr>\n",
       "    <tr>\n",
       "      <th>12</th>\n",
       "      <td>France</td>\n",
       "      <td>0-0</td>\n",
       "      <td>Italy</td>\n",
       "      <td>1998</td>\n",
       "      <td>4-3</td>\n",
       "      <td>Quarter-finals</td>\n",
       "      <td>4</td>\n",
       "      <td>3</td>\n",
       "    </tr>\n",
       "    <tr>\n",
       "      <th>13</th>\n",
       "      <td>Brazil</td>\n",
       "      <td>1-1</td>\n",
       "      <td>Netherlands</td>\n",
       "      <td>1998</td>\n",
       "      <td>4-2</td>\n",
       "      <td>Semi-finals</td>\n",
       "      <td>4</td>\n",
       "      <td>2</td>\n",
       "    </tr>\n",
       "    <tr>\n",
       "      <th>14</th>\n",
       "      <td>Spain</td>\n",
       "      <td>1-1</td>\n",
       "      <td>Republic of Ireland</td>\n",
       "      <td>2002</td>\n",
       "      <td>3-2</td>\n",
       "      <td>Second round</td>\n",
       "      <td>3</td>\n",
       "      <td>2</td>\n",
       "    </tr>\n",
       "    <tr>\n",
       "      <th>15</th>\n",
       "      <td>South Korea</td>\n",
       "      <td>0-0</td>\n",
       "      <td>Spain</td>\n",
       "      <td>2002</td>\n",
       "      <td>5-3</td>\n",
       "      <td>Quarter-finals</td>\n",
       "      <td>5</td>\n",
       "      <td>3</td>\n",
       "    </tr>\n",
       "    <tr>\n",
       "      <th>16</th>\n",
       "      <td>Ukraine</td>\n",
       "      <td>0-0</td>\n",
       "      <td>Switzerland</td>\n",
       "      <td>2006</td>\n",
       "      <td>3-0</td>\n",
       "      <td>Second round</td>\n",
       "      <td>3</td>\n",
       "      <td>0</td>\n",
       "    </tr>\n",
       "    <tr>\n",
       "      <th>17</th>\n",
       "      <td>Germany</td>\n",
       "      <td>1-1</td>\n",
       "      <td>Argentina</td>\n",
       "      <td>2006</td>\n",
       "      <td>4-2</td>\n",
       "      <td>Quarter-finals</td>\n",
       "      <td>4</td>\n",
       "      <td>2</td>\n",
       "    </tr>\n",
       "    <tr>\n",
       "      <th>18</th>\n",
       "      <td>Portugal</td>\n",
       "      <td>0-0</td>\n",
       "      <td>England</td>\n",
       "      <td>2006</td>\n",
       "      <td>3-1</td>\n",
       "      <td>Quarter-finals</td>\n",
       "      <td>3</td>\n",
       "      <td>1</td>\n",
       "    </tr>\n",
       "    <tr>\n",
       "      <th>19</th>\n",
       "      <td>Italy</td>\n",
       "      <td>1-1</td>\n",
       "      <td>France</td>\n",
       "      <td>2006</td>\n",
       "      <td>5-3</td>\n",
       "      <td>Final</td>\n",
       "      <td>5</td>\n",
       "      <td>3</td>\n",
       "    </tr>\n",
       "    <tr>\n",
       "      <th>20</th>\n",
       "      <td>Paraguay</td>\n",
       "      <td>0-0</td>\n",
       "      <td>Japan</td>\n",
       "      <td>2010</td>\n",
       "      <td>5-3</td>\n",
       "      <td>Second round</td>\n",
       "      <td>5</td>\n",
       "      <td>3</td>\n",
       "    </tr>\n",
       "    <tr>\n",
       "      <th>21</th>\n",
       "      <td>Uruguay</td>\n",
       "      <td>1-1</td>\n",
       "      <td>Ghana</td>\n",
       "      <td>2010</td>\n",
       "      <td>4-2</td>\n",
       "      <td>Quarter-finals</td>\n",
       "      <td>4</td>\n",
       "      <td>2</td>\n",
       "    </tr>\n",
       "    <tr>\n",
       "      <th>22</th>\n",
       "      <td>Brazil</td>\n",
       "      <td>1-1</td>\n",
       "      <td>Chile</td>\n",
       "      <td>2014</td>\n",
       "      <td>3-2</td>\n",
       "      <td>Second round</td>\n",
       "      <td>3</td>\n",
       "      <td>2</td>\n",
       "    </tr>\n",
       "    <tr>\n",
       "      <th>23</th>\n",
       "      <td>Costa Rica</td>\n",
       "      <td>1-1</td>\n",
       "      <td>Greece</td>\n",
       "      <td>2014</td>\n",
       "      <td>5-3</td>\n",
       "      <td>Second round</td>\n",
       "      <td>5</td>\n",
       "      <td>3</td>\n",
       "    </tr>\n",
       "    <tr>\n",
       "      <th>24</th>\n",
       "      <td>Netherlands</td>\n",
       "      <td>0-0</td>\n",
       "      <td>Costa Rica</td>\n",
       "      <td>2014</td>\n",
       "      <td>4-3</td>\n",
       "      <td>Quarter-finals</td>\n",
       "      <td>4</td>\n",
       "      <td>3</td>\n",
       "    </tr>\n",
       "    <tr>\n",
       "      <th>25</th>\n",
       "      <td>Argentina</td>\n",
       "      <td>0-0</td>\n",
       "      <td>Netherlands</td>\n",
       "      <td>2014</td>\n",
       "      <td>4-2</td>\n",
       "      <td>Semi-finals</td>\n",
       "      <td>4</td>\n",
       "      <td>2</td>\n",
       "    </tr>\n",
       "  </tbody>\n",
       "</table>\n",
       "</div>"
      ],
      "text/plain": [
       "                  Winner Match Result                 Loser  Year  \\\n",
       "0                Germany          3-3                France  1982   \n",
       "1                 France          1-1                Brazil  1986   \n",
       "2                Germany          0-0                Mexico  1986   \n",
       "3                Belgium          1-1                 Spain  1986   \n",
       "4    Republic of Ireland          0-0               Romania  1990   \n",
       "5              Argentina          0-0            Yugoslavia  1990   \n",
       "6              Argentina          1-1                 Italy  1990   \n",
       "7                Germany          1-1               England  1990   \n",
       "8               Bulgaria          1-1                Mexico  1994   \n",
       "9                 Sweden          2-2               Romania  1994   \n",
       "10                Brazil          0-0                 Italy  1994   \n",
       "11             Argentina          2-2               England  1998   \n",
       "12                France          0-0                 Italy  1998   \n",
       "13                Brazil          1-1           Netherlands  1998   \n",
       "14                 Spain          1-1   Republic of Ireland  2002   \n",
       "15           South Korea          0-0                 Spain  2002   \n",
       "16               Ukraine          0-0           Switzerland  2006   \n",
       "17               Germany          1-1             Argentina  2006   \n",
       "18              Portugal          0-0               England  2006   \n",
       "19                 Italy          1-1                France  2006   \n",
       "20              Paraguay          0-0                 Japan  2010   \n",
       "21               Uruguay          1-1                 Ghana  2010   \n",
       "22                Brazil          1-1                 Chile  2014   \n",
       "23            Costa Rica          1-1                Greece  2014   \n",
       "24           Netherlands          0-0            Costa Rica  2014   \n",
       "25             Argentina          0-0           Netherlands  2014   \n",
       "\n",
       "   Final Result           Round Winner Penalty Goals Loser Penalty Goals  \n",
       "0           5-4     Semi-finals                    5                   4  \n",
       "1           4-3  Quarter-finals                    4                   3  \n",
       "2           4-1  Quarter-finals                    4                   1  \n",
       "3           5-4  Quarter-finals                    5                   4  \n",
       "4           5-4    Second round                    5                   4  \n",
       "5           3-2  Quarter-finals                    3                   2  \n",
       "6           4-3     Semi-finals                    4                   3  \n",
       "7           4-3     Semi-finals                    4                   3  \n",
       "8           3-1    Second round                    3                   1  \n",
       "9           5-4  Quarter-finals                    5                   4  \n",
       "10          3-2           Final                    3                   2  \n",
       "11          4-3    Second round                    4                   3  \n",
       "12          4-3  Quarter-finals                    4                   3  \n",
       "13          4-2     Semi-finals                    4                   2  \n",
       "14          3-2    Second round                    3                   2  \n",
       "15          5-3  Quarter-finals                    5                   3  \n",
       "16          3-0    Second round                    3                   0  \n",
       "17          4-2  Quarter-finals                    4                   2  \n",
       "18          3-1  Quarter-finals                    3                   1  \n",
       "19          5-3           Final                    5                   3  \n",
       "20          5-3    Second round                    5                   3  \n",
       "21          4-2  Quarter-finals                    4                   2  \n",
       "22          3-2    Second round                    3                   2  \n",
       "23          5-3    Second round                    5                   3  \n",
       "24          4-3  Quarter-finals                    4                   3  \n",
       "25          4-2     Semi-finals                    4                   2  "
      ]
     },
     "execution_count": 45,
     "metadata": {},
     "output_type": "execute_result"
    }
   ],
   "source": [
    "df_penalties"
   ]
  },
  {
   "cell_type": "markdown",
   "metadata": {},
   "source": [
    "## How many matches were dicided after penalty shoot-outs?"
   ]
  },
  {
   "cell_type": "code",
   "execution_count": 46,
   "metadata": {},
   "outputs": [
    {
     "data": {
      "text/plain": [
       "Winner    26\n",
       "dtype: int64"
      ]
     },
     "execution_count": 46,
     "metadata": {},
     "output_type": "execute_result"
    }
   ],
   "source": [
    "df_penalties[['Winner']].count()"
   ]
  },
  {
   "cell_type": "markdown",
   "metadata": {},
   "source": [
    "Between 1982 and 2014 took 26 penalty shoot-outs place"
   ]
  },
  {
   "cell_type": "markdown",
   "metadata": {},
   "source": [
    "## How many penalty matches by year?"
   ]
  },
  {
   "cell_type": "code",
   "execution_count": 47,
   "metadata": {},
   "outputs": [
    {
     "data": {
      "image/png": "[encoded data removed]",
      "text/plain": [
       "<Figure size 1008x504 with 1 Axes>"
      ]
     },
     "metadata": {},
     "output_type": "display_data"
    }
   ],
   "source": [
    "df_penalties_by_year = df_penalties['Year'].value_counts().reset_index()\n",
    "df_penalties_by_year.columns = ['Year', 'Count']\n",
    "df_penalties_by_year = df_penalties_by_year.sort_values(by='Year',ascending=True)\n",
    "df_penalties_by_year.set_index(\"Year\").plot(kind='bar',color='bgrcmyk', title=\"Penalty matches by year\", figsize=(14,7), legend=False, fontsize=12)\n",
    "plt.show()"
   ]
  },
  {
   "cell_type": "markdown",
   "metadata": {},
   "source": [
    "## When decided a penalty shoot-out the world cup winner?"
   ]
  },
  {
   "cell_type": "code",
   "execution_count": 48,
   "metadata": {},
   "outputs": [
    {
     "data": {
      "text/html": [
       "<div>\n",
       "<style scoped>\n",
       "    .dataframe tbody tr th:only-of-type {\n",
       "        vertical-align: middle;\n",
       "    }\n",
       "\n",
       "    .dataframe tbody tr th {\n",
       "        vertical-align: top;\n",
       "    }\n",
       "\n",
       "    .dataframe thead th {\n",
       "        text-align: right;\n",
       "    }\n",
       "</style>\n",
       "<table border=\"1\" class=\"dataframe\">\n",
       "  <thead>\n",
       "    <tr style=\"text-align: right;\">\n",
       "      <th></th>\n",
       "      <th>Winner</th>\n",
       "      <th>Match Result</th>\n",
       "      <th>Loser</th>\n",
       "      <th>Year</th>\n",
       "      <th>Final Result</th>\n",
       "      <th>Round</th>\n",
       "      <th>Winner Penalty Goals</th>\n",
       "      <th>Loser Penalty Goals</th>\n",
       "    </tr>\n",
       "  </thead>\n",
       "  <tbody>\n",
       "    <tr>\n",
       "      <th>10</th>\n",
       "      <td>Brazil</td>\n",
       "      <td>0-0</td>\n",
       "      <td>Italy</td>\n",
       "      <td>1994</td>\n",
       "      <td>3-2</td>\n",
       "      <td>Final</td>\n",
       "      <td>3</td>\n",
       "      <td>2</td>\n",
       "    </tr>\n",
       "    <tr>\n",
       "      <th>19</th>\n",
       "      <td>Italy</td>\n",
       "      <td>1-1</td>\n",
       "      <td>France</td>\n",
       "      <td>2006</td>\n",
       "      <td>5-3</td>\n",
       "      <td>Final</td>\n",
       "      <td>5</td>\n",
       "      <td>3</td>\n",
       "    </tr>\n",
       "  </tbody>\n",
       "</table>\n",
       "</div>"
      ],
      "text/plain": [
       "     Winner Match Result    Loser  Year Final Result  Round  \\\n",
       "10   Brazil          0-0    Italy  1994          3-2  Final   \n",
       "19    Italy          1-1   France  2006          5-3  Final   \n",
       "\n",
       "   Winner Penalty Goals Loser Penalty Goals  \n",
       "10                    3                   2  \n",
       "19                    5                   3  "
      ]
     },
     "execution_count": 48,
     "metadata": {},
     "output_type": "execute_result"
    }
   ],
   "source": [
    "df_penalties[df_penalties['Round'] == 'Final']"
   ]
  },
  {
   "cell_type": "markdown",
   "metadata": {},
   "source": [
    "In 1994 won Brazil against Italy with the endresult of 3:2, and in 2006 won Italy against France in the world cup final 5:3."
   ]
  },
  {
   "cell_type": "markdown",
   "metadata": {},
   "source": [
    "## Which team is the most successful on penalties?"
   ]
  },
  {
   "cell_type": "code",
   "execution_count": 49,
   "metadata": {},
   "outputs": [
    {
     "data": {
      "text/html": [
       "<div>\n",
       "<style scoped>\n",
       "    .dataframe tbody tr th:only-of-type {\n",
       "        vertical-align: middle;\n",
       "    }\n",
       "\n",
       "    .dataframe tbody tr th {\n",
       "        vertical-align: top;\n",
       "    }\n",
       "\n",
       "    .dataframe thead th {\n",
       "        text-align: right;\n",
       "    }\n",
       "</style>\n",
       "<table border=\"1\" class=\"dataframe\">\n",
       "  <thead>\n",
       "    <tr style=\"text-align: right;\">\n",
       "      <th></th>\n",
       "      <th>Country</th>\n",
       "      <th>Number of wins</th>\n",
       "    </tr>\n",
       "  </thead>\n",
       "  <tbody>\n",
       "    <tr>\n",
       "      <th>0</th>\n",
       "      <td>Germany</td>\n",
       "      <td>4</td>\n",
       "    </tr>\n",
       "    <tr>\n",
       "      <th>1</th>\n",
       "      <td>Argentina</td>\n",
       "      <td>4</td>\n",
       "    </tr>\n",
       "    <tr>\n",
       "      <th>2</th>\n",
       "      <td>Brazil</td>\n",
       "      <td>3</td>\n",
       "    </tr>\n",
       "    <tr>\n",
       "      <th>3</th>\n",
       "      <td>France</td>\n",
       "      <td>2</td>\n",
       "    </tr>\n",
       "    <tr>\n",
       "      <th>10</th>\n",
       "      <td>Portugal</td>\n",
       "      <td>1</td>\n",
       "    </tr>\n",
       "    <tr>\n",
       "      <th>15</th>\n",
       "      <td>Spain</td>\n",
       "      <td>1</td>\n",
       "    </tr>\n",
       "    <tr>\n",
       "      <th>14</th>\n",
       "      <td>Bulgaria</td>\n",
       "      <td>1</td>\n",
       "    </tr>\n",
       "    <tr>\n",
       "      <th>13</th>\n",
       "      <td>Italy</td>\n",
       "      <td>1</td>\n",
       "    </tr>\n",
       "    <tr>\n",
       "      <th>12</th>\n",
       "      <td>Uruguay</td>\n",
       "      <td>1</td>\n",
       "    </tr>\n",
       "    <tr>\n",
       "      <th>11</th>\n",
       "      <td>Costa Rica</td>\n",
       "      <td>1</td>\n",
       "    </tr>\n",
       "    <tr>\n",
       "      <th>8</th>\n",
       "      <td>Netherlands</td>\n",
       "      <td>1</td>\n",
       "    </tr>\n",
       "    <tr>\n",
       "      <th>9</th>\n",
       "      <td>South Korea</td>\n",
       "      <td>1</td>\n",
       "    </tr>\n",
       "    <tr>\n",
       "      <th>7</th>\n",
       "      <td>Sweden</td>\n",
       "      <td>1</td>\n",
       "    </tr>\n",
       "    <tr>\n",
       "      <th>6</th>\n",
       "      <td>Belgium</td>\n",
       "      <td>1</td>\n",
       "    </tr>\n",
       "    <tr>\n",
       "      <th>5</th>\n",
       "      <td>Republic of Ireland</td>\n",
       "      <td>1</td>\n",
       "    </tr>\n",
       "    <tr>\n",
       "      <th>4</th>\n",
       "      <td>Paraguay</td>\n",
       "      <td>1</td>\n",
       "    </tr>\n",
       "    <tr>\n",
       "      <th>16</th>\n",
       "      <td>Ukraine</td>\n",
       "      <td>1</td>\n",
       "    </tr>\n",
       "  </tbody>\n",
       "</table>\n",
       "</div>"
      ],
      "text/plain": [
       "                 Country  Number of wins\n",
       "0                Germany               4\n",
       "1              Argentina               4\n",
       "2                 Brazil               3\n",
       "3                 France               2\n",
       "10              Portugal               1\n",
       "15                 Spain               1\n",
       "14              Bulgaria               1\n",
       "13                 Italy               1\n",
       "12               Uruguay               1\n",
       "11            Costa Rica               1\n",
       "8            Netherlands               1\n",
       "9            South Korea               1\n",
       "7                 Sweden               1\n",
       "6                Belgium               1\n",
       "5    Republic of Ireland               1\n",
       "4               Paraguay               1\n",
       "16               Ukraine               1"
      ]
     },
     "execution_count": 49,
     "metadata": {},
     "output_type": "execute_result"
    }
   ],
   "source": [
    "df_penalty_winners = df_penalties[\"Winner\"].value_counts().reset_index()\n",
    "df_penalty_winners.columns = [\"Country\",\"Number of wins\"]\n",
    "df_penalty_winners.sort_values(by='Number of wins',ascending=False)"
   ]
  },
  {
   "cell_type": "code",
   "execution_count": 50,
   "metadata": {},
   "outputs": [
    {
     "data": {
      "image/png": "[encoded data removed]",
      "text/plain": [
       "<Figure size 1008x504 with 1 Axes>"
      ]
     },
     "metadata": {},
     "output_type": "display_data"
    }
   ],
   "source": [
    "df_penalty_winners.set_index(\"Country\").plot(kind=\"bar\", color=\"g\", title=\"Total penalty wins per team\", figsize=(14,7), legend=False, fontsize=12)\n",
    "plt.show()"
   ]
  },
  {
   "cell_type": "markdown",
   "metadata": {},
   "source": [
    "## Which team is the less successful on penalty?"
   ]
  },
  {
   "cell_type": "code",
   "execution_count": 51,
   "metadata": {},
   "outputs": [
    {
     "data": {
      "text/html": [
       "<div>\n",
       "<style scoped>\n",
       "    .dataframe tbody tr th:only-of-type {\n",
       "        vertical-align: middle;\n",
       "    }\n",
       "\n",
       "    .dataframe tbody tr th {\n",
       "        vertical-align: top;\n",
       "    }\n",
       "\n",
       "    .dataframe thead th {\n",
       "        text-align: right;\n",
       "    }\n",
       "</style>\n",
       "<table border=\"1\" class=\"dataframe\">\n",
       "  <thead>\n",
       "    <tr style=\"text-align: right;\">\n",
       "      <th></th>\n",
       "      <th>Country</th>\n",
       "      <th>Number of loses</th>\n",
       "    </tr>\n",
       "  </thead>\n",
       "  <tbody>\n",
       "    <tr>\n",
       "      <th>0</th>\n",
       "      <td>Italy</td>\n",
       "      <td>3</td>\n",
       "    </tr>\n",
       "    <tr>\n",
       "      <th>1</th>\n",
       "      <td>England</td>\n",
       "      <td>3</td>\n",
       "    </tr>\n",
       "    <tr>\n",
       "      <th>2</th>\n",
       "      <td>Netherlands</td>\n",
       "      <td>2</td>\n",
       "    </tr>\n",
       "    <tr>\n",
       "      <th>3</th>\n",
       "      <td>France</td>\n",
       "      <td>2</td>\n",
       "    </tr>\n",
       "    <tr>\n",
       "      <th>4</th>\n",
       "      <td>Romania</td>\n",
       "      <td>2</td>\n",
       "    </tr>\n",
       "    <tr>\n",
       "      <th>5</th>\n",
       "      <td>Mexico</td>\n",
       "      <td>2</td>\n",
       "    </tr>\n",
       "    <tr>\n",
       "      <th>6</th>\n",
       "      <td>Spain</td>\n",
       "      <td>2</td>\n",
       "    </tr>\n",
       "    <tr>\n",
       "      <th>12</th>\n",
       "      <td>Chile</td>\n",
       "      <td>1</td>\n",
       "    </tr>\n",
       "    <tr>\n",
       "      <th>15</th>\n",
       "      <td>Switzerland</td>\n",
       "      <td>1</td>\n",
       "    </tr>\n",
       "    <tr>\n",
       "      <th>14</th>\n",
       "      <td>Argentina</td>\n",
       "      <td>1</td>\n",
       "    </tr>\n",
       "    <tr>\n",
       "      <th>13</th>\n",
       "      <td>Japan</td>\n",
       "      <td>1</td>\n",
       "    </tr>\n",
       "    <tr>\n",
       "      <th>8</th>\n",
       "      <td>Ghana</td>\n",
       "      <td>1</td>\n",
       "    </tr>\n",
       "    <tr>\n",
       "      <th>11</th>\n",
       "      <td>Costa Rica</td>\n",
       "      <td>1</td>\n",
       "    </tr>\n",
       "    <tr>\n",
       "      <th>10</th>\n",
       "      <td>Brazil</td>\n",
       "      <td>1</td>\n",
       "    </tr>\n",
       "    <tr>\n",
       "      <th>9</th>\n",
       "      <td>Yugoslavia</td>\n",
       "      <td>1</td>\n",
       "    </tr>\n",
       "    <tr>\n",
       "      <th>7</th>\n",
       "      <td>Republic of Ireland</td>\n",
       "      <td>1</td>\n",
       "    </tr>\n",
       "    <tr>\n",
       "      <th>16</th>\n",
       "      <td>Greece</td>\n",
       "      <td>1</td>\n",
       "    </tr>\n",
       "  </tbody>\n",
       "</table>\n",
       "</div>"
      ],
      "text/plain": [
       "                 Country  Number of loses\n",
       "0                  Italy                3\n",
       "1                England                3\n",
       "2            Netherlands                2\n",
       "3                 France                2\n",
       "4                Romania                2\n",
       "5                 Mexico                2\n",
       "6                  Spain                2\n",
       "12                 Chile                1\n",
       "15           Switzerland                1\n",
       "14             Argentina                1\n",
       "13                 Japan                1\n",
       "8                  Ghana                1\n",
       "11            Costa Rica                1\n",
       "10                Brazil                1\n",
       "9             Yugoslavia                1\n",
       "7    Republic of Ireland                1\n",
       "16                Greece                1"
      ]
     },
     "execution_count": 51,
     "metadata": {},
     "output_type": "execute_result"
    }
   ],
   "source": [
    "df_penalty_loosers = df_penalties[\"Loser\"].value_counts().reset_index()\n",
    "df_penalty_loosers.columns = [\"Country\",\"Number of loses\"]\n",
    "df_penalty_loosers.sort_values(by='Number of loses',ascending=False)"
   ]
  },
  {
   "cell_type": "code",
   "execution_count": 52,
   "metadata": {},
   "outputs": [
    {
     "data": {
      "image/png": "[encoded data removed]",
      "text/plain": [
       "<Figure size 1008x504 with 1 Axes>"
      ]
     },
     "metadata": {},
     "output_type": "display_data"
    }
   ],
   "source": [
    "df_penalty_loosers.set_index(\"Country\").plot(kind=\"bar\", color=\"r\", title=\"Total penalty loses per team\", figsize=(14,7), legend=False, fontsize=12)\n",
    "plt.show()"
   ]
  },
  {
   "cell_type": "code",
   "execution_count": 53,
   "metadata": {},
   "outputs": [
    {
     "ename": "NameError",
     "evalue": "name 'test' is not defined",
     "output_type": "error",
     "traceback": [
      "\u001b[0;31m---------------------------------------------------------------------------\u001b[0m",
      "\u001b[0;31mNameError\u001b[0m                                 Traceback (most recent call last)",
      "\u001b[0;32m<ipython-input-53-d8e8fca2dc0f>\u001b[0m in \u001b[0;36m<module>\u001b[0;34m()\u001b[0m\n\u001b[0;32m----> 1\u001b[0;31m \u001b[0mtest\u001b[0m\u001b[0;34m\u001b[0m\u001b[0m\n\u001b[0m",
      "\u001b[0;31mNameError\u001b[0m: name 'test' is not defined"
     ]
    }
   ],
   "source": [
    "test"
   ]
  },
  {
   "cell_type": "code",
   "execution_count": null,
   "metadata": {},
   "outputs": [],
   "source": []
  }
 ],
 "metadata": {
  "kernelspec": {
   "display_name": "Python 3",
   "language": "python",
   "name": "python3"
  },
  "language_info": {
   "codemirror_mode": {
    "name": "ipython",
    "version": 3
   },
   "file_extension": ".py",
   "mimetype": "text/x-python",
   "name": "python",
   "nbconvert_exporter": "python",
   "pygments_lexer": "ipython3",
   "version": "3.6.5"
  }
 },
 "nbformat": 4,
 "nbformat_minor": 2
}
